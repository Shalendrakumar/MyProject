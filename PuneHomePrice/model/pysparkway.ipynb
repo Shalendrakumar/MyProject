{
 "cells": [
  {
   "cell_type": "code",
   "execution_count": 1,
   "metadata": {},
   "outputs": [
    {
     "name": "stdout",
     "output_type": "stream",
     "text": [
      "<pyspark.sql.session.SparkSession object at 0x00000248D6AAB188>\n",
      "<SparkContext master=local[*] appName=pyspark-shell>\n"
     ]
    }
   ],
   "source": [
    "import pyspark\n",
    "\n",
    "from pyspark.context import SparkContext\n",
    "from pyspark.sql.session import SparkSession\n",
    "\n",
    "sc = SparkContext.getOrCreate()\n",
    "spark = SparkSession(sc)\n",
    "\n",
    "print(spark)\n",
    "print(sc)\n",
    "\n",
    "type(spark)\n",
    "\n",
    "import pyspark.sql.functions as f"
   ]
  },
  {
   "cell_type": "code",
   "execution_count": 2,
   "metadata": {},
   "outputs": [
    {
     "name": "stdout",
     "output_type": "stream",
     "text": [
      "+--------------------+-------------+--------------------+---------+-------+----------+----+-------+-----+\n",
      "|           area_type| availability|            location|     size|society|total_sqft|bath|balcony|price|\n",
      "+--------------------+-------------+--------------------+---------+-------+----------+----+-------+-----+\n",
      "|Super built-up  Area|       19-Dec|         Electron...|    2 BHK|Coomee |      1056|   2|      1|39.07|\n",
      "|          Plot  Area|Ready To Move|  Chikka Tirupath...|4 Bedroom|Theanmp|      2600|   5|      3|120.0|\n",
      "|      Built-up  Area|Ready To Move|       Uttarahalli  |    3 BHK|   null|      1440|   2|      3| 62.0|\n",
      "|Super built-up  Area|Ready To Move|  Lingadheeranahalli|    3 BHK|Soiewre|      1521|   3|      1| 95.0|\n",
      "|Super built-up  Area|Ready To Move|            Kothanur|    2 BHK|   null|      1200|   2|      1| 51.0|\n",
      "+--------------------+-------------+--------------------+---------+-------+----------+----+-------+-----+\n",
      "only showing top 5 rows\n",
      "\n"
     ]
    }
   ],
   "source": [
    "df1 = spark.read.csv(\"pune_home_prices.csv\",header='true',inferSchema='true')\n",
    "\n",
    "df1.show(5)"
   ]
  },
  {
   "cell_type": "code",
   "execution_count": 3,
   "metadata": {},
   "outputs": [
    {
     "name": "stdout",
     "output_type": "stream",
     "text": [
      "+--------------------+----------------+------------------------------+\n",
      "|            location|length(location)|length(ltrim(rtrim(location)))|\n",
      "+--------------------+----------------+------------------------------+\n",
      "|         Electron...|              37|                            24|\n",
      "|  Chikka Tirupath...|              22|                            16|\n",
      "|       Uttarahalli  |              15|                            11|\n",
      "|  Lingadheeranahalli|              18|                            18|\n",
      "|            Kothanur|               8|                             8|\n",
      "+--------------------+----------------+------------------------------+\n",
      "only showing top 5 rows\n",
      "\n"
     ]
    }
   ],
   "source": [
    "#df = df.withColumn(col, func.ltrim(func.rtrim(df[col])))\n",
    "\n",
    "\n",
    "df1.select(\"location\",f.length(\"location\"),f.length(f.ltrim(f.rtrim(df1.location)))).show(5)"
   ]
  },
  {
   "cell_type": "code",
   "execution_count": 4,
   "metadata": {},
   "outputs": [
    {
     "name": "stdout",
     "output_type": "stream",
     "text": [
      "( 13320 , 9 )\n",
      "\n",
      "root\n",
      " |-- area_type: string (nullable = true)\n",
      " |-- availability: string (nullable = true)\n",
      " |-- location: string (nullable = true)\n",
      " |-- size: string (nullable = true)\n",
      " |-- society: string (nullable = true)\n",
      " |-- total_sqft: string (nullable = true)\n",
      " |-- bath: integer (nullable = true)\n",
      " |-- balcony: integer (nullable = true)\n",
      " |-- price: double (nullable = true)\n",
      "\n"
     ]
    }
   ],
   "source": [
    "print(\"(\",df1.count(),\",\", len(df1.columns),\")\\n\")     ##Shape of table\n",
    "\n",
    "df1.printSchema()  "
   ]
  },
  {
   "cell_type": "code",
   "execution_count": 5,
   "metadata": {},
   "outputs": [],
   "source": [
    "def spark_shape(self):\n",
    "    return (self.count(), len(self.columns))\n",
    "\n",
    "pyspark.sql.dataframe.DataFrame.shape = spark_shape\n",
    "pyspark.sql.dataframe.DataFrame.chandan = spark_shape"
   ]
  },
  {
   "cell_type": "code",
   "execution_count": 6,
   "metadata": {},
   "outputs": [
    {
     "name": "stdout",
     "output_type": "stream",
     "text": [
      "(13320, 9)\n",
      "(13320, 9)\n"
     ]
    }
   ],
   "source": [
    "print(df1.shape())\n",
    "print(df1.chandan())"
   ]
  },
  {
   "cell_type": "code",
   "execution_count": 7,
   "metadata": {},
   "outputs": [
    {
     "name": "stdout",
     "output_type": "stream",
     "text": [
      "+--------------------+-------------+--------------------+\n",
      "|           area_type| availability|            location|\n",
      "+--------------------+-------------+--------------------+\n",
      "|Super built-up  Area|       19-Dec|         Electron...|\n",
      "|          Plot  Area|Ready To Move|  Chikka Tirupath...|\n",
      "|      Built-up  Area|Ready To Move|       Uttarahalli  |\n",
      "|Super built-up  Area|Ready To Move|  Lingadheeranahalli|\n",
      "|Super built-up  Area|Ready To Move|            Kothanur|\n",
      "+--------------------+-------------+--------------------+\n",
      "only showing top 5 rows\n",
      "\n"
     ]
    }
   ],
   "source": [
    "df1.select('area_type','availability','location').show(5)"
   ]
  },
  {
   "cell_type": "code",
   "execution_count": 8,
   "metadata": {},
   "outputs": [
    {
     "name": "stdout",
     "output_type": "stream",
     "text": [
      "+--------------------+\n",
      "|           area_type|\n",
      "+--------------------+\n",
      "|      Built-up  Area|\n",
      "|Super built-up  Area|\n",
      "|          Plot  Area|\n",
      "|        Carpet  Area|\n",
      "+--------------------+\n",
      "\n"
     ]
    }
   ],
   "source": [
    "df1.select('area_type').distinct().show()"
   ]
  },
  {
   "cell_type": "code",
   "execution_count": 9,
   "metadata": {},
   "outputs": [
    {
     "name": "stdout",
     "output_type": "stream",
     "text": [
      "+--------------------+-----+\n",
      "|           area_type|count|\n",
      "+--------------------+-----+\n",
      "|      Built-up  Area| 2418|\n",
      "|Super built-up  Area| 8790|\n",
      "|          Plot  Area| 2025|\n",
      "|        Carpet  Area|   87|\n",
      "+--------------------+-----+\n",
      "\n"
     ]
    }
   ],
   "source": [
    "df1.groupBy('area_type').count().show()"
   ]
  },
  {
   "cell_type": "code",
   "execution_count": 10,
   "metadata": {},
   "outputs": [
    {
     "name": "stdout",
     "output_type": "stream",
     "text": [
      "+-------+-----+\n",
      "|balcony|count|\n",
      "+-------+-----+\n",
      "|   null|  609|\n",
      "|      1| 4897|\n",
      "|      3| 1672|\n",
      "|      2| 5113|\n",
      "|      0| 1029|\n",
      "+-------+-----+\n",
      "\n"
     ]
    }
   ],
   "source": [
    "df1.groupBy('balcony').count().show()"
   ]
  },
  {
   "cell_type": "code",
   "execution_count": 11,
   "metadata": {},
   "outputs": [
    {
     "name": "stdout",
     "output_type": "stream",
     "text": [
      "+--------------------+-------------+--------------------+---------+-------+----------+----+-------+-----+\n",
      "|           area_type| availability|            location|     size|society|total_sqft|bath|balcony|price|\n",
      "+--------------------+-------------+--------------------+---------+-------+----------+----+-------+-----+\n",
      "|Super built-up  Area|       19-Dec|         Electron...|    2 BHK|Coomee |      1056|   2|      1|39.07|\n",
      "|          Plot  Area|Ready To Move|  Chikka Tirupath...|4 Bedroom|Theanmp|      2600|   5|      3|120.0|\n",
      "|      Built-up  Area|Ready To Move|       Uttarahalli  |    3 BHK|   null|      1440|   2|      3| 62.0|\n",
      "+--------------------+-------------+--------------------+---------+-------+----------+----+-------+-----+\n",
      "only showing top 3 rows\n",
      "\n"
     ]
    }
   ],
   "source": [
    "df1.show(3)"
   ]
  },
  {
   "cell_type": "code",
   "execution_count": 12,
   "metadata": {},
   "outputs": [
    {
     "data": {
      "text/plain": [
       "(13320, 5)"
      ]
     },
     "execution_count": 12,
     "metadata": {},
     "output_type": "execute_result"
    }
   ],
   "source": [
    "df2 = df1.select('location','size','total_sqft','bath','price')\n",
    "df2.shape()"
   ]
  },
  {
   "cell_type": "code",
   "execution_count": 13,
   "metadata": {},
   "outputs": [
    {
     "name": "stdout",
     "output_type": "stream",
     "text": [
      "+--------------------+---------+----------+----+-----+\n",
      "|            location|     size|total_sqft|bath|price|\n",
      "+--------------------+---------+----------+----+-----+\n",
      "|         Electron...|    2 BHK|      1056|   2|39.07|\n",
      "|  Chikka Tirupath...|4 Bedroom|      2600|   5|120.0|\n",
      "|       Uttarahalli  |    3 BHK|      1440|   2| 62.0|\n",
      "|  Lingadheeranahalli|    3 BHK|      1521|   3| 95.0|\n",
      "|            Kothanur|    2 BHK|      1200|   2| 51.0|\n",
      "+--------------------+---------+----------+----+-----+\n",
      "only showing top 5 rows\n",
      "\n"
     ]
    }
   ],
   "source": [
    "df2.show(5)"
   ]
  },
  {
   "cell_type": "code",
   "execution_count": 14,
   "metadata": {},
   "outputs": [
    {
     "name": "stdout",
     "output_type": "stream",
     "text": [
      "+--------+-----+----------+----+-----+\n",
      "|location| size|total_sqft|bath|price|\n",
      "+--------+-----+----------+----+-----+\n",
      "|    null|3 BHK|      1600|   3| 86.0|\n",
      "+--------+-----+----------+----+-----+\n",
      "\n"
     ]
    }
   ],
   "source": [
    "df2.filter(\"location is null\").show()"
   ]
  },
  {
   "cell_type": "code",
   "execution_count": 104,
   "metadata": {},
   "outputs": [
    {
     "name": "stdout",
     "output_type": "stream",
     "text": [
      "1\n",
      "+--------+-----+\n",
      "|location|count|\n",
      "+--------+-----+\n",
      "|    null|    1|\n",
      "+--------+-----+\n",
      "\n"
     ]
    }
   ],
   "source": [
    "print(df2.filter(\"location is null\").count())\n",
    "\n",
    "df2.filter(\"location is null\").groupBy('location').count().show()"
   ]
  },
  {
   "cell_type": "code",
   "execution_count": 16,
   "metadata": {},
   "outputs": [
    {
     "name": "stdout",
     "output_type": "stream",
     "text": [
      "+--------------+----+-----------+----+------+\n",
      "|      location|size| total_sqft|bath| price|\n",
      "+--------------+----+-----------+----+------+\n",
      "|Sarjapur  Road|null|1200 - 2400|null|34.185|\n",
      "|      IVC Road|null|2000 - 5634|null| 124.0|\n",
      "|  Banashankari|null|       2400|null| 460.0|\n",
      "|Sarjapur  Road|null|1200 - 2400|null|28.785|\n",
      "|   Devanahalli|null|1500 - 2400|null|  46.8|\n",
      "+--------------+----+-----------+----+------+\n",
      "only showing top 5 rows\n",
      "\n"
     ]
    }
   ],
   "source": [
    "df2.filter(\"size is null\").show(5)"
   ]
  },
  {
   "cell_type": "code",
   "execution_count": 17,
   "metadata": {},
   "outputs": [
    {
     "name": "stdout",
     "output_type": "stream",
     "text": [
      "+----+-----+\n",
      "|size|count|\n",
      "+----+-----+\n",
      "|null|   16|\n",
      "+----+-----+\n",
      "\n"
     ]
    }
   ],
   "source": [
    "df2.where(\"size is null\").groupBy('size').count().show()"
   ]
  },
  {
   "cell_type": "code",
   "execution_count": 18,
   "metadata": {},
   "outputs": [
    {
     "name": "stdout",
     "output_type": "stream",
     "text": [
      "+----+-----+\n",
      "|bath|count|\n",
      "+----+-----+\n",
      "|null|   73|\n",
      "+----+-----+\n",
      "\n"
     ]
    },
    {
     "data": {
      "text/plain": [
       "74"
      ]
     },
     "execution_count": 18,
     "metadata": {},
     "output_type": "execute_result"
    }
   ],
   "source": [
    "df2.filter(\"bath is null\").groupBy('bath').count().show()\n",
    "\n",
    "\n",
    "df2.filter(\"bath is null or location is null\").count()"
   ]
  },
  {
   "cell_type": "code",
   "execution_count": 19,
   "metadata": {},
   "outputs": [
    {
     "name": "stdout",
     "output_type": "stream",
     "text": [
      "+--------------------+---------+----------+----+-----+\n",
      "|            location|     size|total_sqft|bath|price|\n",
      "+--------------------+---------+----------+----+-----+\n",
      "|         Electron...|    2 BHK|      1056|   2|39.07|\n",
      "|  Chikka Tirupath...|4 Bedroom|      2600|   5|120.0|\n",
      "|       Uttarahalli  |    3 BHK|      1440|   2| 62.0|\n",
      "|  Lingadheeranahalli|    3 BHK|      1521|   3| 95.0|\n",
      "|            Kothanur|    2 BHK|      1200|   2| 51.0|\n",
      "+--------------------+---------+----------+----+-----+\n",
      "only showing top 5 rows\n",
      "\n"
     ]
    }
   ],
   "source": [
    "df3 = df2.dropna(thresh=3,subset=('location','size','bath'))  \n",
    "\n",
    "df3.show(5)"
   ]
  },
  {
   "cell_type": "code",
   "execution_count": 20,
   "metadata": {},
   "outputs": [
    {
     "name": "stdout",
     "output_type": "stream",
     "text": [
      "+--------+----+----------+----+-----+\n",
      "|location|size|total_sqft|bath|price|\n",
      "+--------+----+----------+----+-----+\n",
      "+--------+----+----------+----+-----+\n",
      "\n"
     ]
    }
   ],
   "source": [
    "df3.filter(\"bath is null or size is null or location is null\").show()"
   ]
  },
  {
   "cell_type": "code",
   "execution_count": 21,
   "metadata": {},
   "outputs": [
    {
     "name": "stdout",
     "output_type": "stream",
     "text": [
      "(13320, 5)\n",
      "(13246, 5)\n"
     ]
    }
   ],
   "source": [
    "print(df2.shape())\n",
    "print(df3.shape())"
   ]
  },
  {
   "cell_type": "code",
   "execution_count": 22,
   "metadata": {},
   "outputs": [
    {
     "name": "stdout",
     "output_type": "stream",
     "text": [
      "+----------+\n",
      "|      size|\n",
      "+----------+\n",
      "|    14 BHK|\n",
      "| 5 Bedroom|\n",
      "|     7 BHK|\n",
      "|    16 BHK|\n",
      "| 1 Bedroom|\n",
      "| 9 Bedroom|\n",
      "| 3 Bedroom|\n",
      "|    27 BHK|\n",
      "|      1 RK|\n",
      "|10 Bedroom|\n",
      "|    11 BHK|\n",
      "|     4 BHK|\n",
      "|18 Bedroom|\n",
      "| 6 Bedroom|\n",
      "|     2 BHK|\n",
      "| 4 Bedroom|\n",
      "| 2 Bedroom|\n",
      "|     6 BHK|\n",
      "|     8 BHK|\n",
      "|    13 BHK|\n",
      "+----------+\n",
      "only showing top 20 rows\n",
      "\n"
     ]
    }
   ],
   "source": [
    "df3.select('size').distinct().show()"
   ]
  },
  {
   "cell_type": "code",
   "execution_count": 23,
   "metadata": {},
   "outputs": [
    {
     "name": "stdout",
     "output_type": "stream",
     "text": [
      "+--------------------+---------+----------+----+-----+---+\n",
      "|            location|     size|total_sqft|bath|price|bhk|\n",
      "+--------------------+---------+----------+----+-----+---+\n",
      "|         Electron...|    2 BHK|      1056|   2|39.07|  2|\n",
      "|  Chikka Tirupath...|4 Bedroom|      2600|   5|120.0|  4|\n",
      "|       Uttarahalli  |    3 BHK|      1440|   2| 62.0|  3|\n",
      "|  Lingadheeranahalli|    3 BHK|      1521|   3| 95.0|  3|\n",
      "|            Kothanur|    2 BHK|      1200|   2| 51.0|  2|\n",
      "+--------------------+---------+----------+----+-----+---+\n",
      "only showing top 5 rows\n",
      "\n"
     ]
    }
   ],
   "source": [
    "#df3.select('size').split(' ')[0]\n",
    "\n",
    "import pyspark.sql.functions as f\n",
    "#df3.select(\"location\",\"size\",\"total_sqft\",\"bath\",\"price\",f.split(\"size\",\" \")[0].alias(\"bhk\")).show(5)\n",
    "\n",
    "df3.withColumn('bhk',f.split(\"size\",\" \")[0]).show(5)\n"
   ]
  },
  {
   "cell_type": "code",
   "execution_count": 24,
   "metadata": {},
   "outputs": [
    {
     "data": {
      "text/plain": [
       "(13246, 5)"
      ]
     },
     "execution_count": 24,
     "metadata": {},
     "output_type": "execute_result"
    }
   ],
   "source": [
    "df3.shape()"
   ]
  },
  {
   "cell_type": "code",
   "execution_count": 25,
   "metadata": {},
   "outputs": [],
   "source": [
    "df4=df3.select(\"location\",\"size\",\"total_sqft\",\"bath\",\"price\",f.split(\"size\",\" \")[0].alias(\"bhk\"))"
   ]
  },
  {
   "cell_type": "code",
   "execution_count": 26,
   "metadata": {},
   "outputs": [
    {
     "data": {
      "text/plain": [
       "(13246, 6)"
      ]
     },
     "execution_count": 26,
     "metadata": {},
     "output_type": "execute_result"
    }
   ],
   "source": [
    "df4.shape()"
   ]
  },
  {
   "cell_type": "code",
   "execution_count": 27,
   "metadata": {},
   "outputs": [
    {
     "name": "stdout",
     "output_type": "stream",
     "text": [
      "+---+\n",
      "|bhk|\n",
      "+---+\n",
      "|  7|\n",
      "| 11|\n",
      "|  3|\n",
      "|  8|\n",
      "| 16|\n",
      "+---+\n",
      "only showing top 5 rows\n",
      "\n"
     ]
    }
   ],
   "source": [
    "df4.select(\"bhk\").distinct().show(5)"
   ]
  },
  {
   "cell_type": "code",
   "execution_count": 28,
   "metadata": {},
   "outputs": [
    {
     "name": "stdout",
     "output_type": "stream",
     "text": [
      "+--------------------+----------+----------+----+-----+---+\n",
      "|            location|      size|total_sqft|bath|price|bhk|\n",
      "+--------------------+----------+----------+----+-----+---+\n",
      "|2Electronic City ...|    27 BHK|      8000|  27|230.0| 27|\n",
      "|         Munnekollal|43 Bedroom|      2400|  40|660.0| 43|\n",
      "+--------------------+----------+----------+----+-----+---+\n",
      "\n"
     ]
    }
   ],
   "source": [
    "df4.filter(df4.bhk>20).show()"
   ]
  },
  {
   "cell_type": "code",
   "execution_count": 29,
   "metadata": {},
   "outputs": [
    {
     "name": "stdout",
     "output_type": "stream",
     "text": [
      "+----------+\n",
      "|total_sqft|\n",
      "+----------+\n",
      "|      1436|\n",
      "|      1090|\n",
      "|       675|\n",
      "|      1512|\n",
      "|      3606|\n",
      "+----------+\n",
      "only showing top 5 rows\n",
      "\n"
     ]
    }
   ],
   "source": [
    "df4.select(\"total_sqft\").distinct().show(5)"
   ]
  },
  {
   "cell_type": "code",
   "execution_count": 30,
   "metadata": {},
   "outputs": [
    {
     "name": "stdout",
     "output_type": "stream",
     "text": [
      "+-----------+\n",
      "| total_sqft|\n",
      "+-----------+\n",
      "|2100 - 2850|\n",
      "|    1330.74|\n",
      "|3067 - 8156|\n",
      "|1042 - 1105|\n",
      "|    1563.05|\n",
      "+-----------+\n",
      "only showing top 5 rows\n",
      "\n"
     ]
    }
   ],
   "source": [
    "df4.select(\"total_sqft\").filter(f.length(df4.total_sqft)>4).show(5)   "
   ]
  },
  {
   "cell_type": "code",
   "execution_count": 31,
   "metadata": {},
   "outputs": [],
   "source": [
    "def is_float(x):\n",
    "    try:\n",
    "        float(x)\n",
    "    except:\n",
    "        return False\n",
    "    return True"
   ]
  },
  {
   "cell_type": "code",
   "execution_count": 32,
   "metadata": {},
   "outputs": [],
   "source": [
    "def convert_sqft_to_num(x):\n",
    "    tokens = x.split('-')\n",
    "    if len(tokens) == 2:\n",
    "        return (float(tokens[0])+float(tokens[1]))/2\n",
    "    try:\n",
    "        return float(x)\n",
    "    except:\n",
    "        return None"
   ]
  },
  {
   "cell_type": "code",
   "execution_count": 33,
   "metadata": {},
   "outputs": [],
   "source": [
    "from pyspark.sql.functions import col"
   ]
  },
  {
   "cell_type": "code",
   "execution_count": 34,
   "metadata": {},
   "outputs": [],
   "source": [
    "pyspark.sql.dataframe.DataFrame.cstn = convert_sqft_to_num"
   ]
  },
  {
   "cell_type": "code",
   "execution_count": null,
   "metadata": {},
   "outputs": [],
   "source": []
  },
  {
   "cell_type": "code",
   "execution_count": 35,
   "metadata": {},
   "outputs": [],
   "source": [
    "is_float = spark.udf.register(\"is_float\", is_float)\n",
    "convert_sqft_to_num = spark.udf.register(\"convert_sqft_to_num\", convert_sqft_to_num)"
   ]
  },
  {
   "cell_type": "code",
   "execution_count": 36,
   "metadata": {},
   "outputs": [
    {
     "name": "stdout",
     "output_type": "stream",
     "text": [
      "+-----------+--------------------+\n",
      "| total_sqft|is_float(total_sqft)|\n",
      "+-----------+--------------------+\n",
      "|2100 - 2850|               false|\n",
      "|    1330.74|                true|\n",
      "|3067 - 8156|               false|\n",
      "|1042 - 1105|               false|\n",
      "|    1563.05|                true|\n",
      "+-----------+--------------------+\n",
      "only showing top 5 rows\n",
      "\n"
     ]
    }
   ],
   "source": [
    "df4.filter(f.length(df4.total_sqft)>4).select(\"total_sqft\",is_float(col(\"total_sqft\"))).show(5)"
   ]
  },
  {
   "cell_type": "code",
   "execution_count": 37,
   "metadata": {},
   "outputs": [
    {
     "name": "stdout",
     "output_type": "stream",
     "text": [
      "+---------+---------+-----------+----+-----+---+\n",
      "| location|     size| total_sqft|bath|price|bhk|\n",
      "+---------+---------+-----------+----+-----+---+\n",
      "|Yelahanka|    4 BHK|2100 - 2850|   4|186.0|  4|\n",
      "|Yelahanka|1 Bedroom|        660|   1| 48.0|  1|\n",
      "|Yelahanka|    3 BHK|       1600|   2| 75.0|  3|\n",
      "+---------+---------+-----------+----+-----+---+\n",
      "only showing top 3 rows\n",
      "\n"
     ]
    }
   ],
   "source": [
    "df4.filter(df4.location == 'Yelahanka').show(3)"
   ]
  },
  {
   "cell_type": "code",
   "execution_count": 38,
   "metadata": {},
   "outputs": [
    {
     "name": "stdout",
     "output_type": "stream",
     "text": [
      "+---------+-----+-----------+----+-----+---+\n",
      "| location| size| total_sqft|bath|price|bhk|\n",
      "+---------+-----+-----------+----+-----+---+\n",
      "|Yelahanka|4 BHK|2100 - 2850|   4|186.0|  4|\n",
      "|Yelahanka|2 BHK|       1326|   2| 78.0|  2|\n",
      "|Yelahanka|2 BHK|       1327|   2| 98.0|  2|\n",
      "|Yelahanka|2 BHK|       1350|   2|55.55|  2|\n",
      "|Yelahanka|2 BHK|       1035|   2| 45.0|  2|\n",
      "+---------+-----+-----------+----+-----+---+\n",
      "only showing top 5 rows\n",
      "\n"
     ]
    }
   ],
   "source": [
    "df4.filter((\"location == 'Yelahanka' and bhk in ('4','2')\")).show(5)"
   ]
  },
  {
   "cell_type": "code",
   "execution_count": 39,
   "metadata": {},
   "outputs": [
    {
     "name": "stdout",
     "output_type": "stream",
     "text": [
      "+------------------+-----+-----------+----+------+---+\n",
      "|          location| size| total_sqft|bath| price|bhk|\n",
      "+------------------+-----+-----------+----+------+---+\n",
      "|         Yelahanka|4 BHK|2100 - 2850|   4| 186.0|  4|\n",
      "|            Hebbal|4 BHK|3067 - 8156|   4| 477.0|  4|\n",
      "|8th Phase JP Nagar|2 BHK|1042 - 1105|   2|54.005|  2|\n",
      "|          Sarjapur|2 BHK|1145 - 1340|   2| 43.49|  2|\n",
      "+------------------+-----+-----------+----+------+---+\n",
      "only showing top 4 rows\n",
      "\n"
     ]
    }
   ],
   "source": [
    "df4.filter(f.length(\"total_sqft\")>7).show(4)"
   ]
  },
  {
   "cell_type": "code",
   "execution_count": 40,
   "metadata": {},
   "outputs": [],
   "source": [
    "df5=df4.select(\"location\",\"size\",convert_sqft_to_num(col(\"total_sqft\")).alias(\"total_sqft\"),\"bath\",\"price\",\"bhk\")"
   ]
  },
  {
   "cell_type": "code",
   "execution_count": 41,
   "metadata": {},
   "outputs": [
    {
     "name": "stdout",
     "output_type": "stream",
     "text": [
      "+--------------------+---------+----------+----+-----+---+\n",
      "|            location|     size|total_sqft|bath|price|bhk|\n",
      "+--------------------+---------+----------+----+-----+---+\n",
      "|         Electron...|    2 BHK|    1056.0|   2|39.07|  2|\n",
      "|  Chikka Tirupath...|4 Bedroom|    2600.0|   5|120.0|  4|\n",
      "|       Uttarahalli  |    3 BHK|    1440.0|   2| 62.0|  3|\n",
      "+--------------------+---------+----------+----+-----+---+\n",
      "only showing top 3 rows\n",
      "\n"
     ]
    }
   ],
   "source": [
    "df5.show(3)"
   ]
  },
  {
   "cell_type": "code",
   "execution_count": 42,
   "metadata": {},
   "outputs": [
    {
     "name": "stdout",
     "output_type": "stream",
     "text": [
      "+--------------------+---------+----------+----+-----+---+\n",
      "|            location|     size|total_sqft|bath|price|bhk|\n",
      "+--------------------+---------+----------+----+-----+---+\n",
      "|         Electron...|    2 BHK|    1056.0|   2|39.07|  2|\n",
      "|  Chikka Tirupath...|4 Bedroom|    2600.0|   5|120.0|  4|\n",
      "|       Uttarahalli  |    3 BHK|    1440.0|   2| 62.0|  3|\n",
      "|  Lingadheeranahalli|    3 BHK|    1521.0|   3| 95.0|  3|\n",
      "+--------------------+---------+----------+----+-----+---+\n",
      "only showing top 4 rows\n",
      "\n"
     ]
    }
   ],
   "source": [
    "df5.filter(f.length(\"total_sqft\")>5).show(4)"
   ]
  },
  {
   "cell_type": "code",
   "execution_count": 43,
   "metadata": {},
   "outputs": [
    {
     "data": {
      "text/plain": [
       "(13246, 6)"
      ]
     },
     "execution_count": 43,
     "metadata": {},
     "output_type": "execute_result"
    }
   ],
   "source": [
    "df5.shape()"
   ]
  },
  {
   "cell_type": "code",
   "execution_count": 44,
   "metadata": {},
   "outputs": [
    {
     "data": {
      "text/plain": [
       "46"
      ]
     },
     "execution_count": 44,
     "metadata": {},
     "output_type": "execute_result"
    }
   ],
   "source": [
    "df5.filter(f.isnull(\"total_sqft\")).count()"
   ]
  },
  {
   "cell_type": "code",
   "execution_count": 45,
   "metadata": {},
   "outputs": [
    {
     "data": {
      "text/plain": [
       "46"
      ]
     },
     "execution_count": 45,
     "metadata": {},
     "output_type": "execute_result"
    }
   ],
   "source": [
    "df5.filter(\"total_sqft is null\").count()"
   ]
  },
  {
   "cell_type": "code",
   "execution_count": 46,
   "metadata": {},
   "outputs": [
    {
     "data": {
      "text/plain": [
       "13200"
      ]
     },
     "execution_count": 46,
     "metadata": {},
     "output_type": "execute_result"
    }
   ],
   "source": [
    "df5.filter(f.isnull(\"total_sqft\") == False).count()"
   ]
  },
  {
   "cell_type": "code",
   "execution_count": 47,
   "metadata": {},
   "outputs": [],
   "source": [
    "df6=df5.filter(f.isnull(\"total_sqft\") == False)\n"
   ]
  },
  {
   "cell_type": "code",
   "execution_count": 48,
   "metadata": {},
   "outputs": [
    {
     "data": {
      "text/plain": [
       "(13200, 6)"
      ]
     },
     "execution_count": 48,
     "metadata": {},
     "output_type": "execute_result"
    }
   ],
   "source": [
    "df6.shape()"
   ]
  },
  {
   "cell_type": "code",
   "execution_count": 49,
   "metadata": {},
   "outputs": [
    {
     "name": "stdout",
     "output_type": "stream",
     "text": [
      "+--------------------+---------+----------+----+-----+---+\n",
      "|            location|     size|total_sqft|bath|price|bhk|\n",
      "+--------------------+---------+----------+----+-----+---+\n",
      "|         Electron...|    2 BHK|    1056.0|   2|39.07|  2|\n",
      "|  Chikka Tirupath...|4 Bedroom|    2600.0|   5|120.0|  4|\n",
      "|       Uttarahalli  |    3 BHK|    1440.0|   2| 62.0|  3|\n",
      "|  Lingadheeranahalli|    3 BHK|    1521.0|   3| 95.0|  3|\n",
      "+--------------------+---------+----------+----+-----+---+\n",
      "only showing top 4 rows\n",
      "\n"
     ]
    }
   ],
   "source": [
    "df6.show(4)"
   ]
  },
  {
   "cell_type": "code",
   "execution_count": 50,
   "metadata": {},
   "outputs": [],
   "source": [
    "df7 = df6.withColumn(\"price_per_sqft\", f.round(df6.price * 100000 / df6.total_sqft,3))   #df6['price']*100000/df6['total_sqft']"
   ]
  },
  {
   "cell_type": "code",
   "execution_count": 51,
   "metadata": {},
   "outputs": [
    {
     "name": "stdout",
     "output_type": "stream",
     "text": [
      "+--------------------+---------+----------+----+-----+---+--------------+\n",
      "|            location|     size|total_sqft|bath|price|bhk|price_per_sqft|\n",
      "+--------------------+---------+----------+----+-----+---+--------------+\n",
      "|         Electron...|    2 BHK|    1056.0|   2|39.07|  2|      3699.811|\n",
      "|  Chikka Tirupath...|4 Bedroom|    2600.0|   5|120.0|  4|      4615.385|\n",
      "|       Uttarahalli  |    3 BHK|    1440.0|   2| 62.0|  3|      4305.556|\n",
      "|  Lingadheeranahalli|    3 BHK|    1521.0|   3| 95.0|  3|      6245.891|\n",
      "|            Kothanur|    2 BHK|    1200.0|   2| 51.0|  2|        4250.0|\n",
      "+--------------------+---------+----------+----+-----+---+--------------+\n",
      "only showing top 5 rows\n",
      "\n"
     ]
    }
   ],
   "source": [
    "df7.show(5)"
   ]
  },
  {
   "cell_type": "code",
   "execution_count": 52,
   "metadata": {},
   "outputs": [],
   "source": [
    "stats=df7.describe(\"price_per_sqft\")"
   ]
  },
  {
   "cell_type": "code",
   "execution_count": 53,
   "metadata": {},
   "outputs": [
    {
     "name": "stdout",
     "output_type": "stream",
     "text": [
      "+-------+------------------+\n",
      "|summary|    price_per_sqft|\n",
      "+-------+------------------+\n",
      "|  count|             13200|\n",
      "|   mean|7920.7591506060635|\n",
      "| stddev|106727.15520919272|\n",
      "|    min|            267.83|\n",
      "|    max|             1.2E7|\n",
      "+-------+------------------+\n",
      "\n"
     ]
    }
   ],
   "source": [
    "stats.show()"
   ]
  },
  {
   "cell_type": "code",
   "execution_count": 54,
   "metadata": {},
   "outputs": [],
   "source": [
    "loc_remove_space=df7.withColumn(\"locations\",f.ltrim(f.rtrim(df1.location)))   #df7.location.apply(lambda x: x.strip())"
   ]
  },
  {
   "cell_type": "code",
   "execution_count": 55,
   "metadata": {},
   "outputs": [
    {
     "name": "stdout",
     "output_type": "stream",
     "text": [
      "+--------------------+---------+----------+----+-----+---+--------------+--------------------+\n",
      "|            location|     size|total_sqft|bath|price|bhk|price_per_sqft|           locations|\n",
      "+--------------------+---------+----------+----+-----+---+--------------+--------------------+\n",
      "|         Electron...|    2 BHK|    1056.0|   2|39.07|  2|      3699.811|Electronic City P...|\n",
      "|  Chikka Tirupath...|4 Bedroom|    2600.0|   5|120.0|  4|      4615.385|    Chikka Tirupathi|\n",
      "|       Uttarahalli  |    3 BHK|    1440.0|   2| 62.0|  3|      4305.556|         Uttarahalli|\n",
      "|  Lingadheeranahalli|    3 BHK|    1521.0|   3| 95.0|  3|      6245.891|  Lingadheeranahalli|\n",
      "+--------------------+---------+----------+----+-----+---+--------------+--------------------+\n",
      "only showing top 4 rows\n",
      "\n"
     ]
    }
   ],
   "source": [
    "loc_remove_space.show(4)"
   ]
  },
  {
   "cell_type": "code",
   "execution_count": 56,
   "metadata": {},
   "outputs": [
    {
     "data": {
      "text/plain": [
       "(13200, 8)"
      ]
     },
     "execution_count": 56,
     "metadata": {},
     "output_type": "execute_result"
    }
   ],
   "source": [
    "loc_remove_space.shape()"
   ]
  },
  {
   "cell_type": "code",
   "execution_count": 57,
   "metadata": {},
   "outputs": [],
   "source": [
    "#df8=df7.withColumn(\"location\",f.regexp_replace(\"location\",'^\\s+$','')) \n",
    "\n",
    "df8=df7.withColumn(\"location\",f.ltrim(f.rtrim(df1.location))) "
   ]
  },
  {
   "cell_type": "code",
   "execution_count": 58,
   "metadata": {},
   "outputs": [
    {
     "data": {
      "text/plain": [
       "(13200, 7)"
      ]
     },
     "execution_count": 58,
     "metadata": {},
     "output_type": "execute_result"
    }
   ],
   "source": [
    "df8.shape()"
   ]
  },
  {
   "cell_type": "code",
   "execution_count": 59,
   "metadata": {},
   "outputs": [
    {
     "name": "stdout",
     "output_type": "stream",
     "text": [
      "+--------------------+----------------+\n",
      "|            location|length(location)|\n",
      "+--------------------+----------------+\n",
      "|Electronic City P...|              24|\n",
      "|    Chikka Tirupathi|              16|\n",
      "|         Uttarahalli|              11|\n",
      "|  Lingadheeranahalli|              18|\n",
      "|            Kothanur|               8|\n",
      "|          Whitefield|              10|\n",
      "+--------------------+----------------+\n",
      "only showing top 6 rows\n",
      "\n"
     ]
    }
   ],
   "source": [
    "df8.select(\"location\",f.length(\"location\")).show(6)"
   ]
  },
  {
   "cell_type": "code",
   "execution_count": 60,
   "metadata": {},
   "outputs": [
    {
     "name": "stdout",
     "output_type": "stream",
     "text": [
      "+--------------------+-----+\n",
      "|            location|count|\n",
      "+--------------------+-----+\n",
      "|   1 Annasandrapalya|    1|\n",
      "|        1 Giri Nagar|    1|\n",
      "|       1 Immadihalli|    1|\n",
      "|  1 Ramamurthy Nagar|    1|\n",
      "|12th cross sriniv...|    1|\n",
      "|1A Block Koramangala|    1|\n",
      "|       1Channasandra|    1|\n",
      "|      1Hanuman Nagar|    1|\n",
      "+--------------------+-----+\n",
      "only showing top 8 rows\n",
      "\n"
     ]
    }
   ],
   "source": [
    "df8.orderBy(\"location\").groupBy(\"location\").count().show(8)"
   ]
  },
  {
   "cell_type": "code",
   "execution_count": 61,
   "metadata": {},
   "outputs": [
    {
     "name": "stdout",
     "output_type": "stream",
     "text": [
      "+--------------------+-----+\n",
      "|            location|count|\n",
      "+--------------------+-----+\n",
      "|          Whitefield|  533|\n",
      "|      Sarjapur  Road|  392|\n",
      "|     Electronic City|  304|\n",
      "|      Kanakpura Road|  264|\n",
      "|         Thanisandra|  235|\n",
      "|           Yelahanka|  210|\n",
      "|         Uttarahalli|  186|\n",
      "|              Hebbal|  176|\n",
      "|        Marathahalli|  175|\n",
      "|Raja Rajeshwari N...|  171|\n",
      "+--------------------+-----+\n",
      "only showing top 10 rows\n",
      "\n"
     ]
    }
   ],
   "source": [
    "from pyspark.sql.functions import desc\n",
    "\n",
    "location_stats = df8.groupBy(\"location\").count().sort(desc(\"count\"))\n",
    "\n",
    "location_stats.show(10)"
   ]
  },
  {
   "cell_type": "code",
   "execution_count": 62,
   "metadata": {},
   "outputs": [
    {
     "name": "stdout",
     "output_type": "stream",
     "text": [
      "root\n",
      " |-- location: string (nullable = true)\n",
      " |-- count: long (nullable = false)\n",
      "\n"
     ]
    }
   ],
   "source": [
    "location_stats.printSchema()"
   ]
  },
  {
   "cell_type": "code",
   "execution_count": 63,
   "metadata": {},
   "outputs": [
    {
     "name": "stdout",
     "output_type": "stream",
     "text": [
      "+--------------------+-----+\n",
      "|            location|count|\n",
      "+--------------------+-----+\n",
      "|       Naganathapura|   10|\n",
      "|    Dodsworth Layout|   10|\n",
      "|        Gunjur Palya|   10|\n",
      "|Nagappa Reddy Layout|   10|\n",
      "|            Basapura|   10|\n",
      "+--------------------+-----+\n",
      "only showing top 5 rows\n",
      "\n"
     ]
    }
   ],
   "source": [
    "location_stats.where(\"count <= 10\").show(5)"
   ]
  },
  {
   "cell_type": "code",
   "execution_count": 64,
   "metadata": {},
   "outputs": [
    {
     "name": "stdout",
     "output_type": "stream",
     "text": [
      "+--------------------+-----+\n",
      "|            location|count|\n",
      "+--------------------+-----+\n",
      "|       Naganathapura|   10|\n",
      "|    Dodsworth Layout|   10|\n",
      "|        Gunjur Palya|   10|\n",
      "|Nagappa Reddy Layout|   10|\n",
      "|            Basapura|   10|\n",
      "+--------------------+-----+\n",
      "only showing top 5 rows\n",
      "\n"
     ]
    }
   ],
   "source": [
    "location_stats_less_than_10 = location_stats.where(\"count <= 10\")\n",
    "\n",
    "location_stats_less_than_10.sort(desc(\"count\")).show(5)  \n",
    "\n",
    "#location_stats_less_than_10.sort(\"count\").show()"
   ]
  },
  {
   "cell_type": "code",
   "execution_count": 65,
   "metadata": {},
   "outputs": [
    {
     "name": "stdout",
     "output_type": "stream",
     "text": [
      "+--------------------+\n",
      "|            location|\n",
      "+--------------------+\n",
      "|        Gunjur Palya|\n",
      "|    Dodsworth Layout|\n",
      "|            Basapura|\n",
      "|Nagappa Reddy Layout|\n",
      "+--------------------+\n",
      "only showing top 4 rows\n",
      "\n"
     ]
    }
   ],
   "source": [
    "location_10 = location_stats_less_than_10.select(\"location\")\n",
    "location_10.show(4)"
   ]
  },
  {
   "cell_type": "code",
   "execution_count": 66,
   "metadata": {},
   "outputs": [
    {
     "data": {
      "text/plain": [
       "2872"
      ]
     },
     "execution_count": 66,
     "metadata": {},
     "output_type": "execute_result"
    }
   ],
   "source": [
    "#df8.join(location_stats_less_than_10, df8.location == location_stats_less_than_10.location).count()\n",
    "\n",
    "df8.join(location_10, df8.location == location_10.location).count()"
   ]
  },
  {
   "cell_type": "code",
   "execution_count": 67,
   "metadata": {},
   "outputs": [
    {
     "data": {
      "text/plain": [
       "pyspark.sql.dataframe.DataFrame"
      ]
     },
     "execution_count": 67,
     "metadata": {},
     "output_type": "execute_result"
    }
   ],
   "source": [
    "type(location_stats_less_than_10)"
   ]
  },
  {
   "cell_type": "code",
   "execution_count": 68,
   "metadata": {},
   "outputs": [
    {
     "name": "stdout",
     "output_type": "stream",
     "text": [
      "1047\n",
      "<class 'list'>\n"
     ]
    }
   ],
   "source": [
    "loca=location_10.select(\"location\").rdd.flatMap(lambda x: x).collect()  \n",
    "\n",
    "print(len(loca))\n",
    "print(type(loca))"
   ]
  },
  {
   "cell_type": "code",
   "execution_count": 69,
   "metadata": {},
   "outputs": [],
   "source": [
    "#lambda x: 'other' if x in location_stats_less_than_10 else x)\n",
    "\n",
    "def loc_stats_lt_10(x):\n",
    "    if x in loca:\n",
    "            return 'Other'\n",
    "    else:\n",
    "        return x\n",
    "        "
   ]
  },
  {
   "cell_type": "code",
   "execution_count": 70,
   "metadata": {},
   "outputs": [],
   "source": [
    "from pyspark.sql.functions import *\n",
    "from pyspark.sql.types import *\n",
    "\n",
    "loc_stats_lt_10 = spark.udf.register(\"loc_stats_lt_10\", loc_stats_lt_10)\n",
    "\n",
    "#b=df8.select('size','total_sqft','bath','price','bhk','price_per_sqft',loc_stats_lt_10(col(\"location\")).alias('new_loc'))\n",
    "\n",
    "b=df8.withColumn('new_loc',loc_stats_lt_10(col(\"location\")))"
   ]
  },
  {
   "cell_type": "code",
   "execution_count": 71,
   "metadata": {},
   "outputs": [
    {
     "data": {
      "text/plain": [
       "(13200, 8)"
      ]
     },
     "execution_count": 71,
     "metadata": {},
     "output_type": "execute_result"
    }
   ],
   "source": [
    "b.shape()"
   ]
  },
  {
   "cell_type": "code",
   "execution_count": 72,
   "metadata": {},
   "outputs": [
    {
     "name": "stdout",
     "output_type": "stream",
     "text": [
      "+---------------+-----+\n",
      "|        new_loc|count|\n",
      "+---------------+-----+\n",
      "|          Other| 2872|\n",
      "|     Whitefield|  533|\n",
      "| Sarjapur  Road|  392|\n",
      "|Electronic City|  304|\n",
      "| Kanakpura Road|  264|\n",
      "+---------------+-----+\n",
      "only showing top 5 rows\n",
      "\n"
     ]
    }
   ],
   "source": [
    "#b.where(\"new_loc = 'Other' \").groupBy(\"new_loc\").count().sort(desc(\"count\")).show()\n",
    "\n",
    "b.groupBy(\"new_loc\").count().sort(desc(\"count\")).show(5)"
   ]
  },
  {
   "cell_type": "code",
   "execution_count": 73,
   "metadata": {},
   "outputs": [
    {
     "name": "stdout",
     "output_type": "stream",
     "text": [
      "+--------------------+---------+----------+----+-----+---+--------------+--------------------+\n",
      "|            location|     size|total_sqft|bath|price|bhk|price_per_sqft|             new_loc|\n",
      "+--------------------+---------+----------+----+-----+---+--------------+--------------------+\n",
      "|Electronic City P...|    2 BHK|    1056.0|   2|39.07|  2|      3699.811|Electronic City P...|\n",
      "|    Chikka Tirupathi|4 Bedroom|    2600.0|   5|120.0|  4|      4615.385|    Chikka Tirupathi|\n",
      "|         Uttarahalli|    3 BHK|    1440.0|   2| 62.0|  3|      4305.556|         Uttarahalli|\n",
      "|  Lingadheeranahalli|    3 BHK|    1521.0|   3| 95.0|  3|      6245.891|  Lingadheeranahalli|\n",
      "|            Kothanur|    2 BHK|    1200.0|   2| 51.0|  2|        4250.0|            Kothanur|\n",
      "+--------------------+---------+----------+----+-----+---+--------------+--------------------+\n",
      "only showing top 5 rows\n",
      "\n"
     ]
    }
   ],
   "source": [
    "b.show(5)"
   ]
  },
  {
   "cell_type": "code",
   "execution_count": null,
   "metadata": {},
   "outputs": [],
   "source": []
  },
  {
   "cell_type": "code",
   "execution_count": 74,
   "metadata": {},
   "outputs": [
    {
     "data": {
      "text/plain": [
       "(13200, 7)"
      ]
     },
     "execution_count": 74,
     "metadata": {},
     "output_type": "execute_result"
    }
   ],
   "source": [
    "df9=df8.withColumn('location',loc_stats_lt_10(col(\"location\")))\n",
    "df9.shape()"
   ]
  },
  {
   "cell_type": "code",
   "execution_count": 75,
   "metadata": {},
   "outputs": [
    {
     "name": "stdout",
     "output_type": "stream",
     "text": [
      "+--------------------+---------+----------+----+-----+---+--------------+\n",
      "|            location|     size|total_sqft|bath|price|bhk|price_per_sqft|\n",
      "+--------------------+---------+----------+----+-----+---+--------------+\n",
      "|Electronic City P...|    2 BHK|    1056.0|   2|39.07|  2|      3699.811|\n",
      "|    Chikka Tirupathi|4 Bedroom|    2600.0|   5|120.0|  4|      4615.385|\n",
      "|         Uttarahalli|    3 BHK|    1440.0|   2| 62.0|  3|      4305.556|\n",
      "|  Lingadheeranahalli|    3 BHK|    1521.0|   3| 95.0|  3|      6245.891|\n",
      "|            Kothanur|    2 BHK|    1200.0|   2| 51.0|  2|        4250.0|\n",
      "+--------------------+---------+----------+----+-----+---+--------------+\n",
      "only showing top 5 rows\n",
      "\n"
     ]
    }
   ],
   "source": [
    "df9.show(5)"
   ]
  },
  {
   "cell_type": "code",
   "execution_count": 76,
   "metadata": {},
   "outputs": [
    {
     "name": "stdout",
     "output_type": "stream",
     "text": [
      "+-------------------+---------+----------+----+-----+---+--------------+\n",
      "|           location|     size|total_sqft|bath|price|bhk|price_per_sqft|\n",
      "+-------------------+---------+----------+----+-----+---+--------------+\n",
      "|              Other|6 Bedroom|    1020.0|   6|370.0|  6|      36274.51|\n",
      "|         HSR Layout|8 Bedroom|     600.0|   9|200.0|  8|     33333.333|\n",
      "|      Murugeshpalya|6 Bedroom|    1407.0|   4|150.0|  6|     10660.981|\n",
      "|Devarachikkanahalli|8 Bedroom|    1350.0|   7| 85.0|  8|      6296.296|\n",
      "|              Other|3 Bedroom|     500.0|   3|100.0|  3|       20000.0|\n",
      "+-------------------+---------+----------+----+-----+---+--------------+\n",
      "only showing top 5 rows\n",
      "\n"
     ]
    }
   ],
   "source": [
    "df9.where((df9.total_sqft/df9.bhk)<300).show(5)"
   ]
  },
  {
   "cell_type": "code",
   "execution_count": 77,
   "metadata": {},
   "outputs": [
    {
     "data": {
      "text/plain": [
       "(744, 7)"
      ]
     },
     "execution_count": 77,
     "metadata": {},
     "output_type": "execute_result"
    }
   ],
   "source": [
    "wrong_bhk=df9.where((df9.total_sqft/df9.bhk)<300)\n",
    "wrong_bhk.shape()"
   ]
  },
  {
   "cell_type": "code",
   "execution_count": 78,
   "metadata": {},
   "outputs": [
    {
     "name": "stdout",
     "output_type": "stream",
     "text": [
      "+-------------------+---------+----------+----+-----+---+--------------+\n",
      "|           location|     size|total_sqft|bath|price|bhk|price_per_sqft|\n",
      "+-------------------+---------+----------+----+-----+---+--------------+\n",
      "|              Other|6 Bedroom|    1020.0|   6|370.0|  6|      36274.51|\n",
      "|         HSR Layout|8 Bedroom|     600.0|   9|200.0|  8|     33333.333|\n",
      "|      Murugeshpalya|6 Bedroom|    1407.0|   4|150.0|  6|     10660.981|\n",
      "|Devarachikkanahalli|8 Bedroom|    1350.0|   7| 85.0|  8|      6296.296|\n",
      "|              Other|3 Bedroom|     500.0|   3|100.0|  3|       20000.0|\n",
      "+-------------------+---------+----------+----+-----+---+--------------+\n",
      "only showing top 5 rows\n",
      "\n"
     ]
    }
   ],
   "source": [
    "wrong_bhk.show(5)"
   ]
  },
  {
   "cell_type": "code",
   "execution_count": 79,
   "metadata": {},
   "outputs": [],
   "source": [
    "df10=df9.where((df9.total_sqft/df9.bhk)>=300)"
   ]
  },
  {
   "cell_type": "code",
   "execution_count": 80,
   "metadata": {},
   "outputs": [
    {
     "data": {
      "text/plain": [
       "(12456, 7)"
      ]
     },
     "execution_count": 80,
     "metadata": {},
     "output_type": "execute_result"
    }
   ],
   "source": [
    "df10.shape()"
   ]
  },
  {
   "cell_type": "code",
   "execution_count": 81,
   "metadata": {},
   "outputs": [
    {
     "name": "stdout",
     "output_type": "stream",
     "text": [
      "+--------------------+---------+----------+----+-----+---+--------------+\n",
      "|            location|     size|total_sqft|bath|price|bhk|price_per_sqft|\n",
      "+--------------------+---------+----------+----+-----+---+--------------+\n",
      "|Electronic City P...|    2 BHK|    1056.0|   2|39.07|  2|      3699.811|\n",
      "|    Chikka Tirupathi|4 Bedroom|    2600.0|   5|120.0|  4|      4615.385|\n",
      "|         Uttarahalli|    3 BHK|    1440.0|   2| 62.0|  3|      4305.556|\n",
      "|  Lingadheeranahalli|    3 BHK|    1521.0|   3| 95.0|  3|      6245.891|\n",
      "|            Kothanur|    2 BHK|    1200.0|   2| 51.0|  2|        4250.0|\n",
      "+--------------------+---------+----------+----+-----+---+--------------+\n",
      "only showing top 5 rows\n",
      "\n"
     ]
    }
   ],
   "source": [
    "df10.show(5)"
   ]
  },
  {
   "cell_type": "code",
   "execution_count": 82,
   "metadata": {},
   "outputs": [
    {
     "name": "stdout",
     "output_type": "stream",
     "text": [
      "+-------+-----------------+\n",
      "|summary|   price_per_sqft|\n",
      "+-------+-----------------+\n",
      "|  count|            12456|\n",
      "|   mean|6308.502826509315|\n",
      "| stddev|4168.127334552693|\n",
      "|    min|           267.83|\n",
      "|    max|       176470.588|\n",
      "+-------+-----------------+\n",
      "\n"
     ]
    }
   ],
   "source": [
    "df10.describe(\"price_per_sqft\").show()"
   ]
  },
  {
   "cell_type": "code",
   "execution_count": 83,
   "metadata": {},
   "outputs": [
    {
     "name": "stdout",
     "output_type": "stream",
     "text": [
      "+---------+---------+----------+----+-----+---+--------------+\n",
      "| location|     size|total_sqft|bath|price|bhk|price_per_sqft|\n",
      "+---------+---------+----------+----+-----+---+--------------+\n",
      "|Yelahanka|    3 BHK|   35000.0|   3|130.0|  3|       371.429|\n",
      "|    Other|3 Bedroom|   52272.0|   2|140.0|  3|        267.83|\n",
      "+---------+---------+----------+----+-----+---+--------------+\n",
      "\n"
     ]
    }
   ],
   "source": [
    "df10.where(\"price_per_sqft < 400\").show()"
   ]
  },
  {
   "cell_type": "code",
   "execution_count": 84,
   "metadata": {},
   "outputs": [
    {
     "name": "stdout",
     "output_type": "stream",
     "text": [
      "root\n",
      " |-- location: string (nullable = true)\n",
      " |-- size: string (nullable = true)\n",
      " |-- total_sqft: string (nullable = true)\n",
      " |-- bath: integer (nullable = true)\n",
      " |-- price: double (nullable = true)\n",
      " |-- bhk: string (nullable = true)\n",
      " |-- price_per_sqft: double (nullable = true)\n",
      "\n"
     ]
    }
   ],
   "source": [
    "df10.printSchema()"
   ]
  },
  {
   "cell_type": "code",
   "execution_count": 85,
   "metadata": {},
   "outputs": [],
   "source": [
    "#schema = StructType([])\n",
    "\n",
    "schema = StructType([StructField(\"location\", StringType(), True),\n",
    "                     StructField(\"size\", StringType(), True),\n",
    "                     StructField(\"total_sqft\", StringType(), True),\n",
    "                     StructField(\"bath\", IntegerType(), True), \n",
    "                     StructField(\"price\", DoubleType(), True),\n",
    "                     StructField(\"bhk\", StringType(), True),\n",
    "                     StructField(\"price_per_sqft\", DoubleType(), True)])\n",
    "    \n",
    "df_out = spark.createDataFrame(sc.emptyRDD(), schema)"
   ]
  },
  {
   "cell_type": "code",
   "execution_count": 86,
   "metadata": {},
   "outputs": [
    {
     "name": "stdout",
     "output_type": "stream",
     "text": [
      "+--------+----+----------+----+-----+---+--------------+\n",
      "|location|size|total_sqft|bath|price|bhk|price_per_sqft|\n",
      "+--------+----+----------+----+-----+---+--------------+\n",
      "+--------+----+----------+----+-----+---+--------------+\n",
      "\n"
     ]
    }
   ],
   "source": [
    "df_out.show()"
   ]
  },
  {
   "cell_type": "code",
   "execution_count": 87,
   "metadata": {},
   "outputs": [
    {
     "name": "stdout",
     "output_type": "stream",
     "text": [
      "+--------------------+---------+----------+----+-----+---+--------------+\n",
      "|            location|     size|total_sqft|bath|price|bhk|price_per_sqft|\n",
      "+--------------------+---------+----------+----+-----+---+--------------+\n",
      "|Electronic City P...|    2 BHK|    1056.0|   2|39.07|  2|      3699.811|\n",
      "|    Chikka Tirupathi|4 Bedroom|    2600.0|   5|120.0|  4|      4615.385|\n",
      "|         Uttarahalli|    3 BHK|    1440.0|   2| 62.0|  3|      4305.556|\n",
      "|  Lingadheeranahalli|    3 BHK|    1521.0|   3| 95.0|  3|      6245.891|\n",
      "|            Kothanur|    2 BHK|    1200.0|   2| 51.0|  2|        4250.0|\n",
      "+--------------------+---------+----------+----+-----+---+--------------+\n",
      "only showing top 5 rows\n",
      "\n"
     ]
    }
   ],
   "source": [
    "df_out.unionByName(df10).show(5)"
   ]
  },
  {
   "cell_type": "code",
   "execution_count": 88,
   "metadata": {},
   "outputs": [
    {
     "name": "stdout",
     "output_type": "stream",
     "text": [
      "[Row(avg(price_per_sqft)=6308.502826509315)]  ===  [Row(stddev_samp(price_per_sqft)=4168.127334552693)]\n"
     ]
    }
   ],
   "source": [
    "import numpy as np\n",
    "\n",
    "m = df10.select(mean(col('price_per_sqft'))).collect()\n",
    "st = df10.select(stddev(col('price_per_sqft'))).collect()\n",
    "#reduced_df = df10.where(\"price_per_sqft>(m-st) and price_per_sqft<=(m+st)\")\n",
    "\n",
    "print(m,\" === \",st)"
   ]
  },
  {
   "cell_type": "code",
   "execution_count": 89,
   "metadata": {},
   "outputs": [
    {
     "name": "stdout",
     "output_type": "stream",
     "text": [
      "[Row(mean=6308.502826509315, std=4168.127334552693)]\n",
      "6308.502826509315  ===  4168.127334552693\n",
      "2140.3754919566218  ===  10476.630161062008\n",
      "<class 'float'>  ===  <class 'float'>\n",
      "+--------------------+---------+----------+----+-----+---+--------------+\n",
      "|            location|     size|total_sqft|bath|price|bhk|price_per_sqft|\n",
      "+--------------------+---------+----------+----+-----+---+--------------+\n",
      "|Electronic City P...|    2 BHK|    1056.0|   2|39.07|  2|      3699.811|\n",
      "|    Chikka Tirupathi|4 Bedroom|    2600.0|   5|120.0|  4|      4615.385|\n",
      "|         Uttarahalli|    3 BHK|    1440.0|   2| 62.0|  3|      4305.556|\n",
      "+--------------------+---------+----------+----+-----+---+--------------+\n",
      "only showing top 3 rows\n",
      "\n"
     ]
    }
   ],
   "source": [
    "from pyspark.sql.functions import mean as mn, stddev as std, col\n",
    "\n",
    "df_stats = df10.select(mn(col('price_per_sqft')).alias('mean'),std(col('price_per_sqft')).alias('std')).collect()\n",
    "print(df_stats)\n",
    "\n",
    "m = df_stats[0]['mean']\n",
    "st = df_stats[0]['std']\n",
    "\n",
    "print(m,\" === \",st)\n",
    "a=(m-st)\n",
    "b=(m+st)\n",
    "   \n",
    "print(a,\" === \",b)\n",
    "print(type(a),\" === \",type(b))\n",
    "\n",
    "reduced_df = df10.filter((col(\"price_per_sqft\")>lit(a))  & (col(\"price_per_sqft\") <= lit(b)))\n",
    "\n",
    "\n",
    "reduced_df.show(3)\n",
    "#reduced_df = df10.where(\"price_per_sqft >a\")  # & col(\"price_per_sqft\")<=b)"
   ]
  },
  {
   "cell_type": "code",
   "execution_count": null,
   "metadata": {},
   "outputs": [],
   "source": []
  },
  {
   "cell_type": "code",
   "execution_count": 90,
   "metadata": {},
   "outputs": [
    {
     "name": "stdout",
     "output_type": "stream",
     "text": [
      "[6308.502826509315, 4168.127334552693]\n"
     ]
    }
   ],
   "source": [
    "df_st = df10.select(mn(col('price_per_sqft')).alias('mean'),\n",
    "                    std(col('price_per_sqft')).alias('std')).rdd.flatMap(lambda x: x).collect()  \n",
    "print(df_st)"
   ]
  },
  {
   "cell_type": "code",
   "execution_count": null,
   "metadata": {},
   "outputs": [],
   "source": []
  },
  {
   "cell_type": "code",
   "execution_count": 91,
   "metadata": {},
   "outputs": [
    {
     "data": {
      "text/plain": [
       "(11294, 7)"
      ]
     },
     "execution_count": 91,
     "metadata": {},
     "output_type": "execute_result"
    }
   ],
   "source": [
    "reduced_df.shape()"
   ]
  },
  {
   "cell_type": "code",
   "execution_count": 92,
   "metadata": {},
   "outputs": [
    {
     "name": "stdout",
     "output_type": "stream",
     "text": [
      "+--------------------+-----+----------+----+-----+---+--------------+\n",
      "|            location| size|total_sqft|bath|price|bhk|price_per_sqft|\n",
      "+--------------------+-----+----------+----+-----+---+--------------+\n",
      "|               Other|1 BHK|    2559.0|   1| 55.0|  1|      2149.277|\n",
      "|Electronic City P...|2 BHK|    1300.0|   2| 28.0|  2|      2153.846|\n",
      "|     Electronic City|2 BHK|     880.0|   2| 19.0|  2|      2159.091|\n",
      "|          Chandapura|2 BHK|     850.0|   1| 18.5|  2|      2176.471|\n",
      "+--------------------+-----+----------+----+-----+---+--------------+\n",
      "only showing top 4 rows\n",
      "\n"
     ]
    }
   ],
   "source": [
    "reduced_df.sort(\"price_per_sqft\").show(4)\n",
    "#reduced_df.orderBy(\"price_per_sqft\").show()"
   ]
  },
  {
   "cell_type": "code",
   "execution_count": 93,
   "metadata": {},
   "outputs": [
    {
     "name": "stdout",
     "output_type": "stream",
     "text": [
      "+---------+-----+----------+----+-----+---+--------------+\n",
      "| location| size|total_sqft|bath|price|bhk|price_per_sqft|\n",
      "+---------+-----+----------+----+-----+---+--------------+\n",
      "|Yelahanka|3 BHK|    1075.0|   2|33.53|  3|       3119.07|\n",
      "|Yelahanka|3 BHK|    1075.0|   2| 36.0|  3|      3348.837|\n",
      "|Yelahanka|3 BHK|    1590.0|   2| 54.0|  3|      3396.226|\n",
      "|Yelahanka|3 BHK|    1590.0|   3| 54.0|  3|      3396.226|\n",
      "|Yelahanka|3 BHK|    1590.0|   2| 54.0|  3|      3396.226|\n",
      "|Yelahanka|3 BHK|    1282.0|   2| 48.7|  3|      3798.752|\n",
      "|Yelahanka|3 BHK|    1756.0|   3|66.73|  3|      3800.114|\n",
      "|Yelahanka|3 BHK|    1381.0|   2|52.48|  3|      3800.145|\n",
      "|Yelahanka|3 BHK|    1282.0|   2|48.72|  3|      3800.312|\n",
      "|Yelahanka|3 BHK|    1282.0|   2|48.72|  3|      3800.312|\n",
      "|Yelahanka|3 BHK|    1484.0|   2| 56.4|  3|      3800.539|\n",
      "|Yelahanka|3 BHK|    1355.0|   2| 51.5|  3|      3800.738|\n",
      "+---------+-----+----------+----+-----+---+--------------+\n",
      "only showing top 12 rows\n",
      "\n"
     ]
    }
   ],
   "source": [
    "#df10.filter(\"location='Yelahanka' and bhk=3 \").sort(desc(\"price_per_sqft\")).show(12)\n",
    "reduced_df.filter(\"location='Yelahanka' and bhk=3 \").sort((\"price_per_sqft\")).show(12)"
   ]
  },
  {
   "cell_type": "code",
   "execution_count": null,
   "metadata": {},
   "outputs": [],
   "source": []
  },
  {
   "cell_type": "code",
   "execution_count": null,
   "metadata": {},
   "outputs": [],
   "source": []
  },
  {
   "cell_type": "code",
   "execution_count": 94,
   "metadata": {},
   "outputs": [],
   "source": [
    "df10.createOrReplaceTempView(\"df10\")\n",
    "location_10.createOrReplaceTempView(\"location_10\")"
   ]
  },
  {
   "cell_type": "code",
   "execution_count": null,
   "metadata": {},
   "outputs": [],
   "source": []
  },
  {
   "cell_type": "code",
   "execution_count": 95,
   "metadata": {},
   "outputs": [
    {
     "name": "stdout",
     "output_type": "stream",
     "text": [
      "+--------+-----------+-----------+\n",
      "|database|  tableName|isTemporary|\n",
      "+--------+-----------+-----------+\n",
      "|        |       df10|       true|\n",
      "|        |location_10|       true|\n",
      "+--------+-----------+-----------+\n",
      "\n"
     ]
    }
   ],
   "source": [
    "spark.sql(\"show tables\").show()"
   ]
  },
  {
   "cell_type": "code",
   "execution_count": 96,
   "metadata": {},
   "outputs": [
    {
     "name": "stdout",
     "output_type": "stream",
     "text": [
      "+--------------------+---------+----------+----+-----+---+--------------+\n",
      "|            location|     size|total_sqft|bath|price|bhk|price_per_sqft|\n",
      "+--------------------+---------+----------+----+-----+---+--------------+\n",
      "|Electronic City P...|    2 BHK|    1056.0|   2|39.07|  2|      3699.811|\n",
      "|    Chikka Tirupathi|4 Bedroom|    2600.0|   5|120.0|  4|      4615.385|\n",
      "|         Uttarahalli|    3 BHK|    1440.0|   2| 62.0|  3|      4305.556|\n",
      "|  Lingadheeranahalli|    3 BHK|    1521.0|   3| 95.0|  3|      6245.891|\n",
      "|            Kothanur|    2 BHK|    1200.0|   2| 51.0|  2|        4250.0|\n",
      "+--------------------+---------+----------+----+-----+---+--------------+\n",
      "only showing top 5 rows\n",
      "\n"
     ]
    }
   ],
   "source": [
    "spark.sql(\"select * from df10 \").show(5)"
   ]
  },
  {
   "cell_type": "code",
   "execution_count": 97,
   "metadata": {},
   "outputs": [
    {
     "name": "stdout",
     "output_type": "stream",
     "text": [
      "+--------+\n",
      "|count(1)|\n",
      "+--------+\n",
      "|   12456|\n",
      "+--------+\n",
      "\n"
     ]
    }
   ],
   "source": [
    "spark.sql(\"select count(*) from df10 limit 10\").show(5)"
   ]
  },
  {
   "cell_type": "code",
   "execution_count": 98,
   "metadata": {},
   "outputs": [
    {
     "name": "stdout",
     "output_type": "stream",
     "text": [
      "+------------------------+\n",
      "|count(DISTINCT location)|\n",
      "+------------------------+\n",
      "|                    1047|\n",
      "+------------------------+\n",
      "\n"
     ]
    }
   ],
   "source": [
    "spark.sql(\"select count(distinct location) from location_10\").show(3)"
   ]
  },
  {
   "cell_type": "code",
   "execution_count": null,
   "metadata": {},
   "outputs": [],
   "source": []
  }
 ],
 "metadata": {
  "kernelspec": {
   "display_name": "Python 3",
   "language": "python",
   "name": "python3"
  },
  "language_info": {
   "codemirror_mode": {
    "name": "ipython",
    "version": 3
   },
   "file_extension": ".py",
   "mimetype": "text/x-python",
   "name": "python",
   "nbconvert_exporter": "python",
   "pygments_lexer": "ipython3",
   "version": "3.7.7"
  }
 },
 "nbformat": 4,
 "nbformat_minor": 4
}
