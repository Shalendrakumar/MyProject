{
 "cells": [
  {
   "cell_type": "code",
   "execution_count": 23,
   "metadata": {},
   "outputs": [
    {
     "name": "stdout",
     "output_type": "stream",
     "text": [
      "<pyspark.sql.session.SparkSession object at 0x0000020A53DC7748>\n",
      "<SparkContext master=local[*] appName=pyspark-shell>\n"
     ]
    }
   ],
   "source": [
    "import pandas as pd\n",
    "import numpy as np\n",
    "import pyspark\n",
    "from pyspark.context import SparkContext\n",
    "from pyspark.sql.session import SparkSession\n",
    "sc = SparkContext.getOrCreate()\n",
    "spark = SparkSession(sc)\n",
    "print(spark)\n",
    "print(sc)"
   ]
  },
  {
   "cell_type": "code",
   "execution_count": 11,
   "metadata": {},
   "outputs": [
    {
     "name": "stdout",
     "output_type": "stream",
     "text": [
      "+--------------------+-------------+--------------------+---------+-------+----------+----+-------+-----+\n",
      "|           area_type| availability|            location|     size|society|total_sqft|bath|balcony|price|\n",
      "+--------------------+-------------+--------------------+---------+-------+----------+----+-------+-----+\n",
      "|Super built-up  Area|       19-Dec|Electronic City P...|    2 BHK|Coomee |      1056|   2|      1|39.07|\n",
      "|          Plot  Area|Ready To Move|    Chikka Tirupathi|4 Bedroom|Theanmp|      2600|   5|      3|120.0|\n",
      "|      Built-up  Area|Ready To Move|         Uttarahalli|    3 BHK|   null|      1440|   2|      3| 62.0|\n",
      "|Super built-up  Area|Ready To Move|  Lingadheeranahalli|    3 BHK|Soiewre|      1521|   3|      1| 95.0|\n",
      "|Super built-up  Area|Ready To Move|            Kothanur|    2 BHK|   null|      1200|   2|      1| 51.0|\n",
      "+--------------------+-------------+--------------------+---------+-------+----------+----+-------+-----+\n",
      "only showing top 5 rows\n",
      "\n"
     ]
    }
   ],
   "source": [
    "df1 = spark.read.csv(\"pune_home_prices.csv\",header='true',inferSchema='true')\n",
    "df1.show(5)"
   ]
  },
  {
   "cell_type": "code",
   "execution_count": 21,
   "metadata": {},
   "outputs": [
    {
     "name": "stdout",
     "output_type": "stream",
     "text": [
      "( 13320 , 9 )\n",
      "root\n",
      " |-- area_type: string (nullable = true)\n",
      " |-- availability: string (nullable = true)\n",
      " |-- location: string (nullable = true)\n",
      " |-- size: string (nullable = true)\n",
      " |-- society: string (nullable = true)\n",
      " |-- total_sqft: string (nullable = true)\n",
      " |-- bath: integer (nullable = true)\n",
      " |-- balcony: integer (nullable = true)\n",
      " |-- price: double (nullable = true)\n",
      "\n"
     ]
    }
   ],
   "source": [
    "print(\"(\",df1.count(),\",\", len(df1.columns),\")\")\n",
    "df1.printSchema()"
   ]
  },
  {
   "cell_type": "code",
   "execution_count": 24,
   "metadata": {},
   "outputs": [],
   "source": [
    "def spark_shape(self):\n",
    "    return (self.count(), len(self.columns))\n",
    "pyspark.sql.dataframe.DataFrame.shape = spark_shape"
   ]
  },
  {
   "cell_type": "code",
   "execution_count": 25,
   "metadata": {},
   "outputs": [
    {
     "data": {
      "text/plain": [
       "(13320, 9)"
      ]
     },
     "execution_count": 25,
     "metadata": {},
     "output_type": "execute_result"
    }
   ],
   "source": [
    "df1.shape()"
   ]
  },
  {
   "cell_type": "code",
   "execution_count": 28,
   "metadata": {},
   "outputs": [
    {
     "name": "stdout",
     "output_type": "stream",
     "text": [
      "+--------------------+-------------+--------------------+\n",
      "|           area_type| availability|            location|\n",
      "+--------------------+-------------+--------------------+\n",
      "|Super built-up  Area|       19-Dec|Electronic City P...|\n",
      "|          Plot  Area|Ready To Move|    Chikka Tirupathi|\n",
      "|      Built-up  Area|Ready To Move|         Uttarahalli|\n",
      "|Super built-up  Area|Ready To Move|  Lingadheeranahalli|\n",
      "|Super built-up  Area|Ready To Move|            Kothanur|\n",
      "+--------------------+-------------+--------------------+\n",
      "only showing top 5 rows\n",
      "\n"
     ]
    }
   ],
   "source": [
    "df1.select('area_type','availability','location').show(5)"
   ]
  },
  {
   "cell_type": "code",
   "execution_count": 31,
   "metadata": {},
   "outputs": [
    {
     "name": "stdout",
     "output_type": "stream",
     "text": [
      "+--------------------+\n",
      "|           area_type|\n",
      "+--------------------+\n",
      "|      Built-up  Area|\n",
      "|Super built-up  Area|\n",
      "|          Plot  Area|\n",
      "|        Carpet  Area|\n",
      "+--------------------+\n",
      "\n"
     ]
    }
   ],
   "source": [
    "df1.select('area_type').distinct().show()"
   ]
  },
  {
   "cell_type": "code",
   "execution_count": 37,
   "metadata": {},
   "outputs": [
    {
     "name": "stdout",
     "output_type": "stream",
     "text": [
      "+--------------------+-----+\n",
      "|           area_type|count|\n",
      "+--------------------+-----+\n",
      "|      Built-up  Area| 2418|\n",
      "|Super built-up  Area| 8790|\n",
      "|          Plot  Area| 2025|\n",
      "|        Carpet  Area|   87|\n",
      "+--------------------+-----+\n",
      "\n"
     ]
    }
   ],
   "source": [
    "df1.groupBy('area_type').count().show()"
   ]
  },
  {
   "cell_type": "code",
   "execution_count": 38,
   "metadata": {},
   "outputs": [
    {
     "name": "stdout",
     "output_type": "stream",
     "text": [
      "+-------+-----+\n",
      "|balcony|count|\n",
      "+-------+-----+\n",
      "|   null|  609|\n",
      "|      1| 4897|\n",
      "|      3| 1672|\n",
      "|      2| 5113|\n",
      "|      0| 1029|\n",
      "+-------+-----+\n",
      "\n"
     ]
    }
   ],
   "source": [
    "df1.groupBy('balcony').count().show()"
   ]
  },
  {
   "cell_type": "code",
   "execution_count": 40,
   "metadata": {},
   "outputs": [
    {
     "data": {
      "text/plain": [
       "(13320, 5)"
      ]
     },
     "execution_count": 40,
     "metadata": {},
     "output_type": "execute_result"
    }
   ],
   "source": [
    "df2 = df1.select('location','size','total_sqft','bath','price')\n",
    "df2.shape()"
   ]
  },
  {
   "cell_type": "code",
   "execution_count": 41,
   "metadata": {},
   "outputs": [
    {
     "name": "stdout",
     "output_type": "stream",
     "text": [
      "+--------------------+---------+----------+----+-----+\n",
      "|            location|     size|total_sqft|bath|price|\n",
      "+--------------------+---------+----------+----+-----+\n",
      "|Electronic City P...|    2 BHK|      1056|   2|39.07|\n",
      "|    Chikka Tirupathi|4 Bedroom|      2600|   5|120.0|\n",
      "|         Uttarahalli|    3 BHK|      1440|   2| 62.0|\n",
      "|  Lingadheeranahalli|    3 BHK|      1521|   3| 95.0|\n",
      "|            Kothanur|    2 BHK|      1200|   2| 51.0|\n",
      "+--------------------+---------+----------+----+-----+\n",
      "only showing top 5 rows\n",
      "\n"
     ]
    }
   ],
   "source": [
    "df2.show(5)"
   ]
  },
  {
   "cell_type": "code",
   "execution_count": 52,
   "metadata": {},
   "outputs": [
    {
     "name": "stdout",
     "output_type": "stream",
     "text": [
      "+--------+-----+----------+----+-----+\n",
      "|location| size|total_sqft|bath|price|\n",
      "+--------+-----+----------+----+-----+\n",
      "|    null|3 BHK|      1600|   3| 86.0|\n",
      "+--------+-----+----------+----+-----+\n",
      "\n"
     ]
    }
   ],
   "source": [
    "df2.filter(\"location is null\").show()"
   ]
  },
  {
   "cell_type": "code",
   "execution_count": 53,
   "metadata": {},
   "outputs": [
    {
     "name": "stdout",
     "output_type": "stream",
     "text": [
      "+--------------+----+-----------+----+------+\n",
      "|      location|size| total_sqft|bath| price|\n",
      "+--------------+----+-----------+----+------+\n",
      "|Sarjapur  Road|null|1200 - 2400|null|34.185|\n",
      "|      IVC Road|null|2000 - 5634|null| 124.0|\n",
      "|  Banashankari|null|       2400|null| 460.0|\n",
      "|Sarjapur  Road|null|1200 - 2400|null|28.785|\n",
      "|   Devanahalli|null|1500 - 2400|null|  46.8|\n",
      "+--------------+----+-----------+----+------+\n",
      "only showing top 5 rows\n",
      "\n"
     ]
    }
   ],
   "source": [
    "df2.filter(\"size is null\").show(5)"
   ]
  },
  {
   "cell_type": "code",
   "execution_count": 58,
   "metadata": {},
   "outputs": [
    {
     "name": "stdout",
     "output_type": "stream",
     "text": [
      "+--------------------+---------+----------+----+-----+\n",
      "|            location|     size|total_sqft|bath|price|\n",
      "+--------------------+---------+----------+----+-----+\n",
      "|Electronic City P...|    2 BHK|      1056|   2|39.07|\n",
      "|    Chikka Tirupathi|4 Bedroom|      2600|   5|120.0|\n",
      "|         Uttarahalli|    3 BHK|      1440|   2| 62.0|\n",
      "|  Lingadheeranahalli|    3 BHK|      1521|   3| 95.0|\n",
      "|            Kothanur|    2 BHK|      1200|   2| 51.0|\n",
      "+--------------------+---------+----------+----+-----+\n",
      "only showing top 5 rows\n",
      "\n"
     ]
    }
   ],
   "source": [
    "df3 = df2.dropna(thresh=2,subset=('location','size','bath'))  \n",
    "\n",
    "df3.show(5)"
   ]
  },
  {
   "cell_type": "code",
   "execution_count": 59,
   "metadata": {},
   "outputs": [
    {
     "data": {
      "text/plain": [
       "(13304, 5)"
      ]
     },
     "execution_count": 59,
     "metadata": {},
     "output_type": "execute_result"
    }
   ],
   "source": [
    "df3.shape()"
   ]
  },
  {
   "cell_type": "code",
   "execution_count": null,
   "metadata": {},
   "outputs": [],
   "source": []
  }
 ],
 "metadata": {
  "kernelspec": {
   "display_name": "Python 3",
   "language": "python",
   "name": "python3"
  },
  "language_info": {
   "codemirror_mode": {
    "name": "ipython",
    "version": 3
   },
   "file_extension": ".py",
   "mimetype": "text/x-python",
   "name": "python",
   "nbconvert_exporter": "python",
   "pygments_lexer": "ipython3",
   "version": "3.7.7"
  }
 },
 "nbformat": 4,
 "nbformat_minor": 4
}
