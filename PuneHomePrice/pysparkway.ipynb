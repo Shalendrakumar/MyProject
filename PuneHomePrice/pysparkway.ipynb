{
 "cells": [
  {
   "cell_type": "code",
   "execution_count": 1,
   "metadata": {},
   "outputs": [
    {
     "name": "stdout",
     "output_type": "stream",
     "text": [
      "<pyspark.sql.session.SparkSession object at 0x000001B92A91E108>\n",
      "<SparkContext master=local[*] appName=pyspark-shell>\n"
     ]
    }
   ],
   "source": [
    "import pandas as pd\n",
    "import numpy as np\n",
    "import pyspark\n",
    "from pyspark.context import SparkContext\n",
    "from pyspark.sql.session import SparkSession\n",
    "sc = SparkContext.getOrCreate()\n",
    "spark = SparkSession(sc)\n",
    "print(spark)\n",
    "print(sc)"
   ]
  },
  {
   "cell_type": "code",
   "execution_count": 2,
   "metadata": {},
   "outputs": [
    {
     "name": "stdout",
     "output_type": "stream",
     "text": [
      "+--------------------+-------------+--------------------+---------+-------+----------+----+-------+-----+\n",
      "|           area_type| availability|            location|     size|society|total_sqft|bath|balcony|price|\n",
      "+--------------------+-------------+--------------------+---------+-------+----------+----+-------+-----+\n",
      "|Super built-up  Area|       19-Dec|Electronic City P...|    2 BHK|Coomee |      1056|   2|      1|39.07|\n",
      "|          Plot  Area|Ready To Move|    Chikka Tirupathi|4 Bedroom|Theanmp|      2600|   5|      3|120.0|\n",
      "|      Built-up  Area|Ready To Move|         Uttarahalli|    3 BHK|   null|      1440|   2|      3| 62.0|\n",
      "|Super built-up  Area|Ready To Move|  Lingadheeranahalli|    3 BHK|Soiewre|      1521|   3|      1| 95.0|\n",
      "|Super built-up  Area|Ready To Move|            Kothanur|    2 BHK|   null|      1200|   2|      1| 51.0|\n",
      "+--------------------+-------------+--------------------+---------+-------+----------+----+-------+-----+\n",
      "only showing top 5 rows\n",
      "\n"
     ]
    }
   ],
   "source": [
    "df1 = spark.read.csv(\"pune_home_prices.csv\",header='true',inferSchema='true')\n",
    "df1.show(5)"
   ]
  },
  {
   "cell_type": "code",
   "execution_count": 3,
   "metadata": {},
   "outputs": [
    {
     "name": "stdout",
     "output_type": "stream",
     "text": [
      "( 13320 , 9 )\n",
      "root\n",
      " |-- area_type: string (nullable = true)\n",
      " |-- availability: string (nullable = true)\n",
      " |-- location: string (nullable = true)\n",
      " |-- size: string (nullable = true)\n",
      " |-- society: string (nullable = true)\n",
      " |-- total_sqft: string (nullable = true)\n",
      " |-- bath: integer (nullable = true)\n",
      " |-- balcony: integer (nullable = true)\n",
      " |-- price: double (nullable = true)\n",
      "\n"
     ]
    }
   ],
   "source": [
    "print(\"(\",df1.count(),\",\", len(df1.columns),\")\")\n",
    "df1.printSchema()"
   ]
  },
  {
   "cell_type": "code",
   "execution_count": 4,
   "metadata": {},
   "outputs": [],
   "source": [
    "def spark_shape(self):\n",
    "    return (self.count(), len(self.columns))\n",
    "pyspark.sql.dataframe.DataFrame.shape = spark_shape"
   ]
  },
  {
   "cell_type": "code",
   "execution_count": 5,
   "metadata": {},
   "outputs": [
    {
     "data": {
      "text/plain": [
       "(13320, 9)"
      ]
     },
     "execution_count": 5,
     "metadata": {},
     "output_type": "execute_result"
    }
   ],
   "source": [
    "df1.shape()"
   ]
  },
  {
   "cell_type": "code",
   "execution_count": 6,
   "metadata": {},
   "outputs": [
    {
     "name": "stdout",
     "output_type": "stream",
     "text": [
      "+--------------------+-------------+--------------------+\n",
      "|           area_type| availability|            location|\n",
      "+--------------------+-------------+--------------------+\n",
      "|Super built-up  Area|       19-Dec|Electronic City P...|\n",
      "|          Plot  Area|Ready To Move|    Chikka Tirupathi|\n",
      "|      Built-up  Area|Ready To Move|         Uttarahalli|\n",
      "|Super built-up  Area|Ready To Move|  Lingadheeranahalli|\n",
      "|Super built-up  Area|Ready To Move|            Kothanur|\n",
      "+--------------------+-------------+--------------------+\n",
      "only showing top 5 rows\n",
      "\n"
     ]
    }
   ],
   "source": [
    "df1.select('area_type','availability','location').show(5)"
   ]
  },
  {
   "cell_type": "code",
   "execution_count": 7,
   "metadata": {},
   "outputs": [
    {
     "name": "stdout",
     "output_type": "stream",
     "text": [
      "+--------------------+\n",
      "|           area_type|\n",
      "+--------------------+\n",
      "|      Built-up  Area|\n",
      "|Super built-up  Area|\n",
      "|          Plot  Area|\n",
      "|        Carpet  Area|\n",
      "+--------------------+\n",
      "\n"
     ]
    }
   ],
   "source": [
    "df1.select('area_type').distinct().show()"
   ]
  },
  {
   "cell_type": "code",
   "execution_count": 8,
   "metadata": {},
   "outputs": [
    {
     "name": "stdout",
     "output_type": "stream",
     "text": [
      "+--------------------+-----+\n",
      "|           area_type|count|\n",
      "+--------------------+-----+\n",
      "|      Built-up  Area| 2418|\n",
      "|Super built-up  Area| 8790|\n",
      "|          Plot  Area| 2025|\n",
      "|        Carpet  Area|   87|\n",
      "+--------------------+-----+\n",
      "\n"
     ]
    }
   ],
   "source": [
    "df1.groupBy('area_type').count().show()"
   ]
  },
  {
   "cell_type": "code",
   "execution_count": 9,
   "metadata": {},
   "outputs": [
    {
     "name": "stdout",
     "output_type": "stream",
     "text": [
      "+-------+-----+\n",
      "|balcony|count|\n",
      "+-------+-----+\n",
      "|   null|  609|\n",
      "|      1| 4897|\n",
      "|      3| 1672|\n",
      "|      2| 5113|\n",
      "|      0| 1029|\n",
      "+-------+-----+\n",
      "\n"
     ]
    }
   ],
   "source": [
    "df1.groupBy('balcony').count().show()"
   ]
  },
  {
   "cell_type": "code",
   "execution_count": 10,
   "metadata": {},
   "outputs": [
    {
     "data": {
      "text/plain": [
       "(13320, 5)"
      ]
     },
     "execution_count": 10,
     "metadata": {},
     "output_type": "execute_result"
    }
   ],
   "source": [
    "df2 = df1.select('location','size','total_sqft','bath','price')\n",
    "df2.shape()"
   ]
  },
  {
   "cell_type": "code",
   "execution_count": 11,
   "metadata": {},
   "outputs": [
    {
     "name": "stdout",
     "output_type": "stream",
     "text": [
      "+--------------------+---------+----------+----+-----+\n",
      "|            location|     size|total_sqft|bath|price|\n",
      "+--------------------+---------+----------+----+-----+\n",
      "|Electronic City P...|    2 BHK|      1056|   2|39.07|\n",
      "|    Chikka Tirupathi|4 Bedroom|      2600|   5|120.0|\n",
      "|         Uttarahalli|    3 BHK|      1440|   2| 62.0|\n",
      "|  Lingadheeranahalli|    3 BHK|      1521|   3| 95.0|\n",
      "|            Kothanur|    2 BHK|      1200|   2| 51.0|\n",
      "+--------------------+---------+----------+----+-----+\n",
      "only showing top 5 rows\n",
      "\n"
     ]
    }
   ],
   "source": [
    "df2.show(5)"
   ]
  },
  {
   "cell_type": "code",
   "execution_count": 12,
   "metadata": {},
   "outputs": [
    {
     "name": "stdout",
     "output_type": "stream",
     "text": [
      "+--------+-----+----------+----+-----+\n",
      "|location| size|total_sqft|bath|price|\n",
      "+--------+-----+----------+----+-----+\n",
      "|    null|3 BHK|      1600|   3| 86.0|\n",
      "+--------+-----+----------+----+-----+\n",
      "\n"
     ]
    }
   ],
   "source": [
    "df2.filter(\"location is null\").show()"
   ]
  },
  {
   "cell_type": "code",
   "execution_count": 13,
   "metadata": {},
   "outputs": [
    {
     "name": "stdout",
     "output_type": "stream",
     "text": [
      "+--------------+----+-----------+----+------+\n",
      "|      location|size| total_sqft|bath| price|\n",
      "+--------------+----+-----------+----+------+\n",
      "|Sarjapur  Road|null|1200 - 2400|null|34.185|\n",
      "|      IVC Road|null|2000 - 5634|null| 124.0|\n",
      "|  Banashankari|null|       2400|null| 460.0|\n",
      "|Sarjapur  Road|null|1200 - 2400|null|28.785|\n",
      "|   Devanahalli|null|1500 - 2400|null|  46.8|\n",
      "+--------------+----+-----------+----+------+\n",
      "only showing top 5 rows\n",
      "\n"
     ]
    }
   ],
   "source": [
    "df2.filter(\"size is null\").show(5)"
   ]
  },
  {
   "cell_type": "code",
   "execution_count": 14,
   "metadata": {},
   "outputs": [
    {
     "name": "stdout",
     "output_type": "stream",
     "text": [
      "+--------------------+---------+----------+----+-----+\n",
      "|            location|     size|total_sqft|bath|price|\n",
      "+--------------------+---------+----------+----+-----+\n",
      "|Electronic City P...|    2 BHK|      1056|   2|39.07|\n",
      "|    Chikka Tirupathi|4 Bedroom|      2600|   5|120.0|\n",
      "|         Uttarahalli|    3 BHK|      1440|   2| 62.0|\n",
      "|  Lingadheeranahalli|    3 BHK|      1521|   3| 95.0|\n",
      "|            Kothanur|    2 BHK|      1200|   2| 51.0|\n",
      "+--------------------+---------+----------+----+-----+\n",
      "only showing top 5 rows\n",
      "\n"
     ]
    }
   ],
   "source": [
    "df3 = df2.dropna(thresh=3,subset=('location','size','bath'))  \n",
    "\n",
    "df3.show(5)"
   ]
  },
  {
   "cell_type": "code",
   "execution_count": 15,
   "metadata": {},
   "outputs": [
    {
     "data": {
      "text/plain": [
       "(13246, 5)"
      ]
     },
     "execution_count": 15,
     "metadata": {},
     "output_type": "execute_result"
    }
   ],
   "source": [
    "df3.shape()"
   ]
  },
  {
   "cell_type": "code",
   "execution_count": 16,
   "metadata": {},
   "outputs": [
    {
     "name": "stdout",
     "output_type": "stream",
     "text": [
      "+----------+\n",
      "|      size|\n",
      "+----------+\n",
      "|    14 BHK|\n",
      "| 5 Bedroom|\n",
      "|     7 BHK|\n",
      "|    16 BHK|\n",
      "| 1 Bedroom|\n",
      "| 9 Bedroom|\n",
      "| 3 Bedroom|\n",
      "|    27 BHK|\n",
      "|      1 RK|\n",
      "|10 Bedroom|\n",
      "|    11 BHK|\n",
      "|     4 BHK|\n",
      "|18 Bedroom|\n",
      "| 6 Bedroom|\n",
      "|     2 BHK|\n",
      "| 4 Bedroom|\n",
      "| 2 Bedroom|\n",
      "|     6 BHK|\n",
      "|     8 BHK|\n",
      "|    13 BHK|\n",
      "+----------+\n",
      "only showing top 20 rows\n",
      "\n"
     ]
    }
   ],
   "source": [
    "df3.select('size').distinct().show()"
   ]
  },
  {
   "cell_type": "code",
   "execution_count": 17,
   "metadata": {},
   "outputs": [
    {
     "name": "stdout",
     "output_type": "stream",
     "text": [
      "+--------------------+---------+----------+----+-----+---+\n",
      "|            location|     size|total_sqft|bath|price|bhk|\n",
      "+--------------------+---------+----------+----+-----+---+\n",
      "|Electronic City P...|    2 BHK|      1056|   2|39.07|  2|\n",
      "|    Chikka Tirupathi|4 Bedroom|      2600|   5|120.0|  4|\n",
      "|         Uttarahalli|    3 BHK|      1440|   2| 62.0|  3|\n",
      "|  Lingadheeranahalli|    3 BHK|      1521|   3| 95.0|  3|\n",
      "|            Kothanur|    2 BHK|      1200|   2| 51.0|  2|\n",
      "+--------------------+---------+----------+----+-----+---+\n",
      "only showing top 5 rows\n",
      "\n"
     ]
    }
   ],
   "source": [
    "#df3.select('size').split(' ')[0]\n",
    "import pyspark.sql.functions as f\n",
    "df3.select(\"location\",\"size\",\"total_sqft\",\"bath\",\"price\",f.split(\"size\",\" \")[0].alias(\"bhk\")).show(5)\n"
   ]
  },
  {
   "cell_type": "code",
   "execution_count": 18,
   "metadata": {},
   "outputs": [
    {
     "data": {
      "text/plain": [
       "(13246, 5)"
      ]
     },
     "execution_count": 18,
     "metadata": {},
     "output_type": "execute_result"
    }
   ],
   "source": [
    "df3.shape()"
   ]
  },
  {
   "cell_type": "code",
   "execution_count": 19,
   "metadata": {},
   "outputs": [],
   "source": [
    "df4=df3.select(\"location\",\"size\",\"total_sqft\",\"bath\",\"price\",f.split(\"size\",\" \")[0].alias(\"bhk\"))"
   ]
  },
  {
   "cell_type": "code",
   "execution_count": 20,
   "metadata": {},
   "outputs": [
    {
     "data": {
      "text/plain": [
       "(13246, 6)"
      ]
     },
     "execution_count": 20,
     "metadata": {},
     "output_type": "execute_result"
    }
   ],
   "source": [
    "df4.shape()"
   ]
  },
  {
   "cell_type": "code",
   "execution_count": 21,
   "metadata": {},
   "outputs": [
    {
     "name": "stdout",
     "output_type": "stream",
     "text": [
      "+---+\n",
      "|bhk|\n",
      "+---+\n",
      "|  7|\n",
      "| 11|\n",
      "|  3|\n",
      "|  8|\n",
      "| 16|\n",
      "| 43|\n",
      "|  5|\n",
      "| 18|\n",
      "| 27|\n",
      "|  6|\n",
      "| 19|\n",
      "|  9|\n",
      "|  1|\n",
      "| 10|\n",
      "|  4|\n",
      "| 12|\n",
      "| 13|\n",
      "| 14|\n",
      "|  2|\n",
      "+---+\n",
      "\n"
     ]
    }
   ],
   "source": [
    "df4.select(\"bhk\").distinct().show()"
   ]
  },
  {
   "cell_type": "code",
   "execution_count": 22,
   "metadata": {},
   "outputs": [
    {
     "name": "stdout",
     "output_type": "stream",
     "text": [
      "+--------------------+----------+----------+----+-----+---+\n",
      "|            location|      size|total_sqft|bath|price|bhk|\n",
      "+--------------------+----------+----------+----+-----+---+\n",
      "|2Electronic City ...|    27 BHK|      8000|  27|230.0| 27|\n",
      "|         Munnekollal|43 Bedroom|      2400|  40|660.0| 43|\n",
      "+--------------------+----------+----------+----+-----+---+\n",
      "\n"
     ]
    }
   ],
   "source": [
    "df4.filter(df4.bhk>20).show()"
   ]
  },
  {
   "cell_type": "code",
   "execution_count": 23,
   "metadata": {},
   "outputs": [
    {
     "name": "stdout",
     "output_type": "stream",
     "text": [
      "+----------+\n",
      "|total_sqft|\n",
      "+----------+\n",
      "|      1436|\n",
      "|      1090|\n",
      "|       675|\n",
      "|      1512|\n",
      "|      3606|\n",
      "+----------+\n",
      "only showing top 5 rows\n",
      "\n"
     ]
    }
   ],
   "source": [
    "df4.select(\"total_sqft\").distinct().show(5)"
   ]
  },
  {
   "cell_type": "code",
   "execution_count": 24,
   "metadata": {},
   "outputs": [],
   "source": [
    "def is_float(x):\n",
    "    try:\n",
    "        float(x)\n",
    "    except:\n",
    "        return False\n",
    "    return True"
   ]
  },
  {
   "cell_type": "code",
   "execution_count": 25,
   "metadata": {},
   "outputs": [],
   "source": [
    "def convert_sqft_to_num(x):\n",
    "    tokens = x.split('-')\n",
    "    if len(tokens) == 2:\n",
    "        return (float(tokens[0])+float(tokens[1]))/2\n",
    "    try:\n",
    "        return float(x)\n",
    "    except:\n",
    "        return None"
   ]
  },
  {
   "cell_type": "code",
   "execution_count": 26,
   "metadata": {},
   "outputs": [],
   "source": [
    "from pyspark.sql.functions import col"
   ]
  },
  {
   "cell_type": "code",
   "execution_count": 27,
   "metadata": {},
   "outputs": [],
   "source": [
    "is_float = spark.udf.register(\"is_float\", is_float)\n",
    "convert_sqft_to_num = spark.udf.register(\"convert_sqft_to_num\", convert_sqft_to_num)"
   ]
  },
  {
   "cell_type": "code",
   "execution_count": 28,
   "metadata": {},
   "outputs": [
    {
     "name": "stdout",
     "output_type": "stream",
     "text": [
      "+--------------------+\n",
      "|is_float(total_sqft)|\n",
      "+--------------------+\n",
      "|                true|\n",
      "|                true|\n",
      "|                true|\n",
      "|                true|\n",
      "+--------------------+\n",
      "only showing top 4 rows\n",
      "\n"
     ]
    }
   ],
   "source": [
    "df4.select(is_float(col(\"total_sqft\"))).show(4)"
   ]
  },
  {
   "cell_type": "code",
   "execution_count": 29,
   "metadata": {},
   "outputs": [
    {
     "name": "stdout",
     "output_type": "stream",
     "text": [
      "+---------+---------+-----------+----+-----+---+\n",
      "| location|     size| total_sqft|bath|price|bhk|\n",
      "+---------+---------+-----------+----+-----+---+\n",
      "|Yelahanka|    4 BHK|2100 - 2850|   4|186.0|  4|\n",
      "|Yelahanka|1 Bedroom|        660|   1| 48.0|  1|\n",
      "|Yelahanka|    3 BHK|       1600|   2| 75.0|  3|\n",
      "+---------+---------+-----------+----+-----+---+\n",
      "only showing top 3 rows\n",
      "\n"
     ]
    }
   ],
   "source": [
    "df4.filter(df4.location == 'Yelahanka').show(3)"
   ]
  },
  {
   "cell_type": "code",
   "execution_count": 30,
   "metadata": {},
   "outputs": [
    {
     "name": "stdout",
     "output_type": "stream",
     "text": [
      "+---------+-----+-----------+----+-----+---+\n",
      "| location| size| total_sqft|bath|price|bhk|\n",
      "+---------+-----+-----------+----+-----+---+\n",
      "|Yelahanka|4 BHK|2100 - 2850|   4|186.0|  4|\n",
      "|Yelahanka|2 BHK|       1326|   2| 78.0|  2|\n",
      "|Yelahanka|2 BHK|       1327|   2| 98.0|  2|\n",
      "|Yelahanka|2 BHK|       1350|   2|55.55|  2|\n",
      "|Yelahanka|2 BHK|       1035|   2| 45.0|  2|\n",
      "+---------+-----+-----------+----+-----+---+\n",
      "only showing top 5 rows\n",
      "\n"
     ]
    }
   ],
   "source": [
    "df4.filter((\"location == 'Yelahanka' and bhk in ('4','2')\")).show(5)"
   ]
  },
  {
   "cell_type": "code",
   "execution_count": 31,
   "metadata": {},
   "outputs": [
    {
     "name": "stdout",
     "output_type": "stream",
     "text": [
      "+------------------+-----+-----------+----+------+---+\n",
      "|          location| size| total_sqft|bath| price|bhk|\n",
      "+------------------+-----+-----------+----+------+---+\n",
      "|         Yelahanka|4 BHK|2100 - 2850|   4| 186.0|  4|\n",
      "|            Hebbal|4 BHK|3067 - 8156|   4| 477.0|  4|\n",
      "|8th Phase JP Nagar|2 BHK|1042 - 1105|   2|54.005|  2|\n",
      "|          Sarjapur|2 BHK|1145 - 1340|   2| 43.49|  2|\n",
      "+------------------+-----+-----------+----+------+---+\n",
      "only showing top 4 rows\n",
      "\n"
     ]
    }
   ],
   "source": [
    "df4.filter(f.length(\"total_sqft\")>7).show(4)"
   ]
  },
  {
   "cell_type": "code",
   "execution_count": 32,
   "metadata": {},
   "outputs": [],
   "source": [
    "df5=df4.select(\"location\",\"size\",convert_sqft_to_num(col(\"total_sqft\")).alias(\"total_sqft\"),\"bath\",\"price\",\"bhk\")"
   ]
  },
  {
   "cell_type": "code",
   "execution_count": 33,
   "metadata": {},
   "outputs": [
    {
     "name": "stdout",
     "output_type": "stream",
     "text": [
      "+--------------------+---------+----------+----+-----+---+\n",
      "|            location|     size|total_sqft|bath|price|bhk|\n",
      "+--------------------+---------+----------+----+-----+---+\n",
      "|Electronic City P...|    2 BHK|    1056.0|   2|39.07|  2|\n",
      "|    Chikka Tirupathi|4 Bedroom|    2600.0|   5|120.0|  4|\n",
      "|         Uttarahalli|    3 BHK|    1440.0|   2| 62.0|  3|\n",
      "+--------------------+---------+----------+----+-----+---+\n",
      "only showing top 3 rows\n",
      "\n"
     ]
    }
   ],
   "source": [
    "df5.show(3)"
   ]
  },
  {
   "cell_type": "code",
   "execution_count": 34,
   "metadata": {},
   "outputs": [
    {
     "data": {
      "text/plain": [
       "(13246, 6)"
      ]
     },
     "execution_count": 34,
     "metadata": {},
     "output_type": "execute_result"
    }
   ],
   "source": [
    "df5.shape()"
   ]
  },
  {
   "cell_type": "code",
   "execution_count": 35,
   "metadata": {},
   "outputs": [
    {
     "data": {
      "text/plain": [
       "46"
      ]
     },
     "execution_count": 35,
     "metadata": {},
     "output_type": "execute_result"
    }
   ],
   "source": [
    "df5.filter(f.isnull(\"total_sqft\")).count()"
   ]
  },
  {
   "cell_type": "code",
   "execution_count": 36,
   "metadata": {},
   "outputs": [
    {
     "data": {
      "text/plain": [
       "13200"
      ]
     },
     "execution_count": 36,
     "metadata": {},
     "output_type": "execute_result"
    }
   ],
   "source": [
    "df5.filter(f.isnull(\"total_sqft\") == False).count()"
   ]
  },
  {
   "cell_type": "code",
   "execution_count": 37,
   "metadata": {},
   "outputs": [],
   "source": [
    "df6=df5.filter(f.isnull(\"total_sqft\") == False)\n"
   ]
  },
  {
   "cell_type": "code",
   "execution_count": 38,
   "metadata": {},
   "outputs": [
    {
     "data": {
      "text/plain": [
       "(13200, 6)"
      ]
     },
     "execution_count": 38,
     "metadata": {},
     "output_type": "execute_result"
    }
   ],
   "source": [
    "df6.shape()"
   ]
  },
  {
   "cell_type": "code",
   "execution_count": 39,
   "metadata": {},
   "outputs": [
    {
     "name": "stdout",
     "output_type": "stream",
     "text": [
      "+--------------------+---------+----------+----+-----+---+\n",
      "|            location|     size|total_sqft|bath|price|bhk|\n",
      "+--------------------+---------+----------+----+-----+---+\n",
      "|Electronic City P...|    2 BHK|    1056.0|   2|39.07|  2|\n",
      "|    Chikka Tirupathi|4 Bedroom|    2600.0|   5|120.0|  4|\n",
      "|         Uttarahalli|    3 BHK|    1440.0|   2| 62.0|  3|\n",
      "|  Lingadheeranahalli|    3 BHK|    1521.0|   3| 95.0|  3|\n",
      "+--------------------+---------+----------+----+-----+---+\n",
      "only showing top 4 rows\n",
      "\n"
     ]
    }
   ],
   "source": [
    "df6.show(4)"
   ]
  },
  {
   "cell_type": "code",
   "execution_count": 40,
   "metadata": {},
   "outputs": [],
   "source": [
    "df7 = df6.withColumn(\"price_per_sqft\", df6.price * 100000 / df6.total_sqft)    #df6['price']*100000/df6['total_sqft']"
   ]
  },
  {
   "cell_type": "code",
   "execution_count": 41,
   "metadata": {},
   "outputs": [
    {
     "name": "stdout",
     "output_type": "stream",
     "text": [
      "+--------------------+---------+----------+----+-----+---+-----------------+\n",
      "|            location|     size|total_sqft|bath|price|bhk|   price_per_sqft|\n",
      "+--------------------+---------+----------+----+-----+---+-----------------+\n",
      "|Electronic City P...|    2 BHK|    1056.0|   2|39.07|  2|3699.810606060606|\n",
      "|    Chikka Tirupathi|4 Bedroom|    2600.0|   5|120.0|  4|4615.384615384615|\n",
      "|         Uttarahalli|    3 BHK|    1440.0|   2| 62.0|  3|4305.555555555556|\n",
      "|  Lingadheeranahalli|    3 BHK|    1521.0|   3| 95.0|  3|6245.890861275477|\n",
      "|            Kothanur|    2 BHK|    1200.0|   2| 51.0|  2|           4250.0|\n",
      "+--------------------+---------+----------+----+-----+---+-----------------+\n",
      "only showing top 5 rows\n",
      "\n"
     ]
    }
   ],
   "source": [
    "df7.show(5)"
   ]
  },
  {
   "cell_type": "code",
   "execution_count": 42,
   "metadata": {},
   "outputs": [],
   "source": [
    "stats=df7.describe(\"price_per_sqft\")"
   ]
  },
  {
   "cell_type": "code",
   "execution_count": 43,
   "metadata": {},
   "outputs": [
    {
     "name": "stdout",
     "output_type": "stream",
     "text": [
      "+-------+------------------+\n",
      "|summary|    price_per_sqft|\n",
      "+-------+------------------+\n",
      "|  count|             13200|\n",
      "|   mean| 7920.759149939642|\n",
      "| stddev|106727.15520931015|\n",
      "|    min|267.82981328435875|\n",
      "|    max|             1.2E7|\n",
      "+-------+------------------+\n",
      "\n"
     ]
    }
   ],
   "source": [
    "stats.show()"
   ]
  },
  {
   "cell_type": "code",
   "execution_count": 44,
   "metadata": {},
   "outputs": [],
   "source": [
    "loc_remove_space=df7.withColumn(\"locations\",f.regexp_replace(\"location\",'^\\s+$',''))   #df7.location.apply(lambda x: x.strip())"
   ]
  },
  {
   "cell_type": "code",
   "execution_count": 45,
   "metadata": {},
   "outputs": [
    {
     "name": "stdout",
     "output_type": "stream",
     "text": [
      "+--------------------+---------+----------+----+-----+---+-----------------+--------------------+\n",
      "|            location|     size|total_sqft|bath|price|bhk|   price_per_sqft|           locations|\n",
      "+--------------------+---------+----------+----+-----+---+-----------------+--------------------+\n",
      "|Electronic City P...|    2 BHK|    1056.0|   2|39.07|  2|3699.810606060606|Electronic City P...|\n",
      "|    Chikka Tirupathi|4 Bedroom|    2600.0|   5|120.0|  4|4615.384615384615|    Chikka Tirupathi|\n",
      "|         Uttarahalli|    3 BHK|    1440.0|   2| 62.0|  3|4305.555555555556|         Uttarahalli|\n",
      "|  Lingadheeranahalli|    3 BHK|    1521.0|   3| 95.0|  3|6245.890861275477|  Lingadheeranahalli|\n",
      "+--------------------+---------+----------+----+-----+---+-----------------+--------------------+\n",
      "only showing top 4 rows\n",
      "\n"
     ]
    }
   ],
   "source": [
    "loc_remove_space.show(4)"
   ]
  },
  {
   "cell_type": "code",
   "execution_count": 46,
   "metadata": {},
   "outputs": [
    {
     "data": {
      "text/plain": [
       "(13200, 8)"
      ]
     },
     "execution_count": 46,
     "metadata": {},
     "output_type": "execute_result"
    }
   ],
   "source": [
    "loc_remove_space.shape()"
   ]
  },
  {
   "cell_type": "code",
   "execution_count": 47,
   "metadata": {},
   "outputs": [],
   "source": [
    "df8=df7.withColumn(\"location\",f.regexp_replace(\"location\",'^\\s+$','')) "
   ]
  },
  {
   "cell_type": "code",
   "execution_count": 48,
   "metadata": {},
   "outputs": [
    {
     "data": {
      "text/plain": [
       "(13200, 7)"
      ]
     },
     "execution_count": 48,
     "metadata": {},
     "output_type": "execute_result"
    }
   ],
   "source": [
    "df8.shape()"
   ]
  },
  {
   "cell_type": "code",
   "execution_count": 49,
   "metadata": {},
   "outputs": [
    {
     "name": "stdout",
     "output_type": "stream",
     "text": [
      "+--------------------+---------+----------+----+-----+---+-----------------+\n",
      "|            location|     size|total_sqft|bath|price|bhk|   price_per_sqft|\n",
      "+--------------------+---------+----------+----+-----+---+-----------------+\n",
      "|Electronic City P...|    2 BHK|    1056.0|   2|39.07|  2|3699.810606060606|\n",
      "|    Chikka Tirupathi|4 Bedroom|    2600.0|   5|120.0|  4|4615.384615384615|\n",
      "|         Uttarahalli|    3 BHK|    1440.0|   2| 62.0|  3|4305.555555555556|\n",
      "+--------------------+---------+----------+----+-----+---+-----------------+\n",
      "only showing top 3 rows\n",
      "\n"
     ]
    }
   ],
   "source": [
    "df8.show(3)"
   ]
  },
  {
   "cell_type": "code",
   "execution_count": 50,
   "metadata": {},
   "outputs": [
    {
     "name": "stdout",
     "output_type": "stream",
     "text": [
      "+------------+-----+\n",
      "|    location|count|\n",
      "+------------+-----+\n",
      "|      Anekal|    1|\n",
      "|   Banaswadi|    1|\n",
      "| Basavangudi|    1|\n",
      "+------------+-----+\n",
      "only showing top 3 rows\n",
      "\n"
     ]
    }
   ],
   "source": [
    "df8.orderBy(\"location\").groupBy(\"location\").count().show(3)"
   ]
  },
  {
   "cell_type": "code",
   "execution_count": 51,
   "metadata": {},
   "outputs": [
    {
     "name": "stdout",
     "output_type": "stream",
     "text": [
      "+--------------------+-----+\n",
      "|            location|count|\n",
      "+--------------------+-----+\n",
      "|          Whitefield|  532|\n",
      "|      Sarjapur  Road|  392|\n",
      "|     Electronic City|  302|\n",
      "|      Kanakpura Road|  264|\n",
      "|         Thanisandra|  232|\n",
      "|           Yelahanka|  210|\n",
      "|         Uttarahalli|  186|\n",
      "|              Hebbal|  176|\n",
      "|        Marathahalli|  175|\n",
      "|Raja Rajeshwari N...|  171|\n",
      "+--------------------+-----+\n",
      "only showing top 10 rows\n",
      "\n"
     ]
    }
   ],
   "source": [
    "from pyspark.sql.functions import desc\n",
    "\n",
    "location_stats = df8.groupBy(\"location\").count().sort(desc(\"count\"))\n",
    "\n",
    "location_stats.show(10)"
   ]
  },
  {
   "cell_type": "code",
   "execution_count": 52,
   "metadata": {},
   "outputs": [
    {
     "name": "stdout",
     "output_type": "stream",
     "text": [
      "root\n",
      " |-- location: string (nullable = true)\n",
      " |-- count: long (nullable = false)\n",
      "\n"
     ]
    }
   ],
   "source": [
    "location_stats.printSchema()"
   ]
  },
  {
   "cell_type": "code",
   "execution_count": 53,
   "metadata": {},
   "outputs": [
    {
     "name": "stdout",
     "output_type": "stream",
     "text": [
      "+--------------------+-----+\n",
      "|            location|count|\n",
      "+--------------------+-----+\n",
      "|    Dodsworth Layout|   10|\n",
      "|            Basapura|   10|\n",
      "|Nagappa Reddy Layout|   10|\n",
      "+--------------------+-----+\n",
      "only showing top 3 rows\n",
      "\n"
     ]
    }
   ],
   "source": [
    "location_stats.where(\"count <= 10\").show(3)"
   ]
  },
  {
   "cell_type": "code",
   "execution_count": 54,
   "metadata": {},
   "outputs": [
    {
     "name": "stdout",
     "output_type": "stream",
     "text": [
      "+--------------------+-----+\n",
      "|            location|count|\n",
      "+--------------------+-----+\n",
      "|    Dodsworth Layout|   10|\n",
      "|            Basapura|   10|\n",
      "|Nagappa Reddy Layout|   10|\n",
      "+--------------------+-----+\n",
      "only showing top 3 rows\n",
      "\n"
     ]
    }
   ],
   "source": [
    "location_stats_less_than_10 = location_stats.where(\"count <= 10\")\n",
    "\n",
    "location_stats_less_than_10.show(3)"
   ]
  },
  {
   "cell_type": "code",
   "execution_count": 55,
   "metadata": {},
   "outputs": [
    {
     "data": {
      "text/plain": [
       "2887"
      ]
     },
     "execution_count": 55,
     "metadata": {},
     "output_type": "execute_result"
    }
   ],
   "source": [
    "df8.join(location_stats_less_than_10, df8.location == location_stats_less_than_10.location).count()"
   ]
  },
  {
   "cell_type": "code",
   "execution_count": 56,
   "metadata": {},
   "outputs": [],
   "source": [
    "#lambda x: 'other' if x in location_stats_less_than_10 else x)\n",
    "\n",
    "def loc_stats_lt_10(x):\n",
    "    if x in location_stats_less_than_10.location:\n",
    "            return 'Other'\n",
    "    else:\n",
    "        return x\n",
    "        "
   ]
  },
  {
   "cell_type": "code",
   "execution_count": null,
   "metadata": {},
   "outputs": [],
   "source": []
  },
  {
   "cell_type": "code",
   "execution_count": null,
   "metadata": {},
   "outputs": [],
   "source": []
  }
 ],
 "metadata": {
  "kernelspec": {
   "display_name": "Python 3",
   "language": "python",
   "name": "python3"
  },
  "language_info": {
   "codemirror_mode": {
    "name": "ipython",
    "version": 3
   },
   "file_extension": ".py",
   "mimetype": "text/x-python",
   "name": "python",
   "nbconvert_exporter": "python",
   "pygments_lexer": "ipython3",
   "version": "3.7.7"
  }
 },
 "nbformat": 4,
 "nbformat_minor": 4
}
