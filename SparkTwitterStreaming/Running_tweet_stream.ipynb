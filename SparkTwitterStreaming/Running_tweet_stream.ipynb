{
 "cells": [
  {
   "cell_type": "code",
   "execution_count": 1,
   "metadata": {},
   "outputs": [],
   "source": [
    "from __future__ import print_function\n",
    "from pyspark import SparkContext\n",
    "from pyspark.streaming import StreamingContext\n",
    "from pyspark.sql.session import SparkSession\n",
    "from pyspark.sql import SQLContext\n",
    "from pyspark.sql.functions import desc\n",
    "from collections import namedtuple"
   ]
  },
  {
   "cell_type": "code",
   "execution_count": 2,
   "metadata": {},
   "outputs": [],
   "source": [
    "#sc = SparkContext.getOrCreate()\n",
    "\n",
    "sc = SparkContext(appName=\"StreamingTwitterAnalysis\")\n",
    "\n",
    "spark = SparkSession(sc)\n",
    "ssc = StreamingContext(sc, 10 )\n",
    "sc.setLogLevel(\"ERROR\")"
   ]
  },
  {
   "cell_type": "code",
   "execution_count": 3,
   "metadata": {},
   "outputs": [
    {
     "name": "stdout",
     "output_type": "stream",
     "text": [
      "<pyspark.streaming.dstream.DStream object at 0x0000020C151E51C8>\n",
      "<pyspark.streaming.dstream.DStream object at 0x0000020C151DCA08>\n"
     ]
    }
   ],
   "source": [
    "socket_stream = ssc.socketTextStream(\"127.0.0.1\", 8029)\n",
    "lines = socket_stream.window( 20 )\n",
    "\n",
    "print(socket_stream)\n",
    "print(lines)"
   ]
  },
  {
   "cell_type": "code",
   "execution_count": 4,
   "metadata": {},
   "outputs": [],
   "source": [
    "hashtags = lines.flatMap( lambda text: text.split( \" \" ) ).filter( lambda word: word.lower().startswith(\"#\") ).map( lambda \n",
    "        word: (word.lower() , 1 ) ).reduceByKey( lambda a, b: a + b )\n"
   ]
  },
  {
   "cell_type": "code",
   "execution_count": 5,
   "metadata": {},
   "outputs": [
    {
     "name": "stdout",
     "output_type": "stream",
     "text": [
      "<pyspark.streaming.dstream.TransformedDStream object at 0x0000020C1509BF48>\n"
     ]
    }
   ],
   "source": [
    "print(hashtags)"
   ]
  },
  {
   "cell_type": "code",
   "execution_count": 6,
   "metadata": {},
   "outputs": [],
   "source": [
    "acsds = hashtags.transform(lambda rec: rec.sortBy(lambda x : x[0].lower()).sortBy(lambda x :x[1],ascending=False ))\n"
   ]
  },
  {
   "cell_type": "code",
   "execution_count": 7,
   "metadata": {},
   "outputs": [
    {
     "data": {
      "text/plain": [
       "pyspark.streaming.dstream.TransformedDStream"
      ]
     },
     "execution_count": 7,
     "metadata": {},
     "output_type": "execute_result"
    }
   ],
   "source": [
    "type(acsds)"
   ]
  },
  {
   "cell_type": "markdown",
   "metadata": {},
   "source": [
    "# Running GetTweetsStreamData.py"
   ]
  },
  {
   "cell_type": "code",
   "execution_count": 8,
   "metadata": {},
   "outputs": [],
   "source": [
    "acsds.pprint()"
   ]
  },
  {
   "cell_type": "code",
   "execution_count": 9,
   "metadata": {},
   "outputs": [
    {
     "name": "stdout",
     "output_type": "stream",
     "text": [
      "-------------------------------------------\n",
      "Time: 2020-07-06 00:50:20\n",
      "-------------------------------------------\n",
      "\n"
     ]
    }
   ],
   "source": [
    "ssc.start()"
   ]
  },
  {
   "cell_type": "code",
   "execution_count": null,
   "metadata": {},
   "outputs": [
    {
     "name": "stdout",
     "output_type": "stream",
     "text": [
      "-------------------------------------------\n",
      "Time: 2020-07-06 00:50:30\n",
      "-------------------------------------------\n",
      "('#cbienquiryforssr', 1)\n",
      "('#novotesofyouthifnocbi4ssr', 1)\n",
      "('#pmcbankcrisis.', 1)\n",
      "('#pmmodicbiforssr', 1)\n",
      "('#yournaman', 1)\n",
      "\n",
      "-------------------------------------------\n",
      "Time: 2020-07-06 00:50:40\n",
      "-------------------------------------------\n",
      "('#56inchtummy', 2)\n",
      "('#cbienquiryforssr', 2)\n",
      "('#novotesofyouthifnocbi4ssr', 2)\n",
      "('#pmmodicbiforssr', 2)\n",
      "('#yournaman', 2)\n",
      "('#covidー19', 1)\n",
      "('#digitalbharataatmanirbharbharatrt', 1)\n",
      "('#gst', 1)\n",
      "('#pmcbankcrisis.', 1)\n",
      "('#rahulgandhi…', 1)\n",
      "\n"
     ]
    }
   ],
   "source": [
    "ssc.awaitTermination()"
   ]
  },
  {
   "cell_type": "code",
   "execution_count": null,
   "metadata": {},
   "outputs": [],
   "source": []
  },
  {
   "cell_type": "code",
   "execution_count": null,
   "metadata": {},
   "outputs": [],
   "source": []
  }
 ],
 "metadata": {
  "kernelspec": {
   "display_name": "Python 3",
   "language": "python",
   "name": "python3"
  },
  "language_info": {
   "codemirror_mode": {
    "name": "ipython",
    "version": 3
   },
   "file_extension": ".py",
   "mimetype": "text/x-python",
   "name": "python",
   "nbconvert_exporter": "python",
   "pygments_lexer": "ipython3",
   "version": "3.7.7"
  }
 },
 "nbformat": 4,
 "nbformat_minor": 4
}
