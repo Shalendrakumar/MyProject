{
 "cells": [
  {
   "cell_type": "code",
   "execution_count": 1,
   "metadata": {},
   "outputs": [],
   "source": [
    "import tweepy\n",
    "from tweepy import OAuthHandler\n",
    "from tweepy import Stream\n",
    "from tweepy.streaming import StreamListener\n",
    "import socket\n",
    "import json"
   ]
  },
  {
   "cell_type": "code",
   "execution_count": 2,
   "metadata": {},
   "outputs": [],
   "source": [
    "consumer_key='tGzy6yKlBCwoUbzto3HCq3PvC'\n",
    "consumer_secret='oiu003DB8lfEd8LbAszcqNDjzzxvEzOBdM1R3dofAriKUll1mO'\n",
    "access_token ='142538330-HDaugW4shLcizBoSYts4zEJfR6YeU0cBRBMZe8nb'\n",
    "access_secret='IVHz2kChdOEs56UqX7T5NsMUIGFvbScLbo4LZddp8oQqK'"
   ]
  },
  {
   "cell_type": "code",
   "execution_count": 3,
   "metadata": {},
   "outputs": [],
   "source": [
    "class TweetsListener(StreamListener):\n",
    "  def __init__(self, csocket):\n",
    "      self.client_socket = csocket\n",
    "        \n",
    "  def on_data(self, data):\n",
    "      try:\n",
    "          msg = json.loads( data )\n",
    "          print(msg['text'].encode('utf-8'))\n",
    "          self.client_socket.send( msg['text'].encode('utf-8') )\n",
    "          return True\n",
    "      except BaseException as e:\n",
    "          print(\"Error on_data: %s\" % str(e))\n",
    "      return True\n",
    "\n",
    "  def on_error(self, status):\n",
    "      print(status)\n",
    "      return True\n"
   ]
  },
  {
   "cell_type": "code",
   "execution_count": 4,
   "metadata": {},
   "outputs": [],
   "source": [
    "def sendData(c_socket):\n",
    "  auth = OAuthHandler(consumer_key, consumer_secret)\n",
    "  auth.set_access_token(access_token, access_secret)\n",
    "  twitter_stream = Stream(auth, TweetsListener(c_socket))\n",
    "  twitter_stream.filter(track=['modi'])\n"
   ]
  },
  {
   "cell_type": "code",
   "execution_count": 5,
   "metadata": {},
   "outputs": [
    {
     "name": "stdout",
     "output_type": "stream",
     "text": [
      "Listening on port : 8029\n",
      "Received data from : ('127.0.0.1', 60102)\n"
     ]
    }
   ],
   "source": [
    "if __name__ == '__main__':\n",
    "    s = socket.socket()\n",
    "    host = \"127.0.0.1\"\n",
    "    port = 8029\n",
    "    s.bind((host,port))\n",
    "    print(\"Listening on port : %s\" % str(port))\n",
    "    s.listen(5)\n",
    "    c, addr = s.accept()\n",
    "    print(\"Received data from : \" + str(addr))"
   ]
  },
  {
   "cell_type": "code",
   "execution_count": null,
   "metadata": {},
   "outputs": [
    {
     "name": "stdout",
     "output_type": "stream",
     "text": [
      "b'RT @rupamurthy1: This is called Body shaming.\\n\\nHad the same thing been done to an anti-Modi camp WOMAN, the entire ecosystem of feminists,\\xe2\\x80\\xa6'\n",
      "b'RT @iBrahmdeoPaswan: @Dr_Uditraj If a Modi supporter tells me which one of the things Modi has done in the last six years in the interest o\\xe2\\x80\\xa6'\n"
     ]
    }
   ],
   "source": [
    "sendData(c) "
   ]
  },
  {
   "cell_type": "code",
   "execution_count": null,
   "metadata": {},
   "outputs": [],
   "source": []
  }
 ],
 "metadata": {
  "kernelspec": {
   "display_name": "Python 3",
   "language": "python",
   "name": "python3"
  },
  "language_info": {
   "codemirror_mode": {
    "name": "ipython",
    "version": 3
   },
   "file_extension": ".py",
   "mimetype": "text/x-python",
   "name": "python",
   "nbconvert_exporter": "python",
   "pygments_lexer": "ipython3",
   "version": "3.7.7"
  }
 },
 "nbformat": 4,
 "nbformat_minor": 4
}
